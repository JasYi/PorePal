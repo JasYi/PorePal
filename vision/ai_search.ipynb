{
 "cells": [
  {
   "cell_type": "markdown",
   "metadata": {},
   "source": [
    "## Mistral AI search engine"
   ]
  },
  {
   "cell_type": "markdown",
   "metadata": {},
   "source": [
    "![image info](../../images/mistral-search-graph.png)"
   ]
  },
  {
   "cell_type": "code",
   "execution_count": 1,
   "metadata": {},
   "outputs": [],
   "source": [
    "from dotenv import load_dotenv\n",
    "import os\n",
    "\n",
    "load_dotenv()  # load environment variables from .env file\n",
    "OPENAI_API_KEY = os.getenv(\"OPENAI_API_KEY\")\n",
    "GOOGLE_API_KEY = os.getenv(\"GOOGLE_API_KEY\")"
   ]
  },
  {
   "cell_type": "markdown",
   "metadata": {},
   "source": [
    "## Scraper Definitions"
   ]
  },
  {
   "cell_type": "code",
   "execution_count": 3,
   "metadata": {},
   "outputs": [
    {
     "name": "stdout",
     "output_type": "stream",
     "text": [
      "Searching for: latest news about apple and openai\n",
      "adding item OpenAI and Apple announce partnership | OpenAI\n",
      "adding item New download version on Mac not working? - ChatGPT - OpenAI ...\n",
      "adding item Apple Intelligence - Apple\n",
      "adding item Compatibility Issues with Desktop App on Mac - ChatGPT - OpenAI ...\n",
      "adding item Apple not investing in OpenAI after all, new report says | 9to5Mac : r ...\n",
      "adding item Apple drops out of talks to join OpenAI investment round, WSJ ...\n",
      "adding item The complicated partnership between Apple and OpenAI | CNN ...\n",
      "adding item Apple drops out of talks to join OpenAI investment round, WSJ reports\n",
      "adding item OpenAI and Apple Announce Partnership | Hacker News\n",
      "adding item Apple partners with OpenAI to roll out new artificial intelligence system\n",
      "[{'title': 'OpenAI and Apple announce partnership | OpenAI', 'links': 'https://openai.com/index/openai-and-apple-announce-partnership/'}, {'title': 'New download version on Mac not working? - ChatGPT - OpenAI ...', 'links': 'https://community.openai.com/t/new-download-version-on-mac-not-working/779514'}, {'title': 'Apple Intelligence - Apple', 'links': 'https://www.apple.com/apple-intelligence/'}, {'title': 'Compatibility Issues with Desktop App on Mac - ChatGPT - OpenAI ...', 'links': 'https://community.openai.com/t/compatibility-issues-with-desktop-app-on-mac/765557'}, {'title': 'Apple not investing in OpenAI after all, new report says | 9to5Mac : r ...', 'links': 'https://www.reddit.com/r/apple/comments/1fr8ihm/apple_not_investing_in_openai_after_all_new/'}, {'title': 'Apple drops out of talks to join OpenAI investment round, WSJ ...', 'links': 'https://www.reuters.com/markets/deals/apple-drops-out-talks-join-openai-investment-round-wsj-says-2024-09-28/'}, {'title': 'The complicated partnership between Apple and OpenAI | CNN ...', 'links': 'https://www.cnn.com/2024/06/14/tech/apple-openai-partnership/index.html'}, {'title': 'Apple drops out of talks to join OpenAI investment round, WSJ reports', 'links': 'https://www.reddit.com/r/OpenAI/comments/1frd0c3/apple_drops_out_of_talks_to_join_openai/'}, {'title': 'OpenAI and Apple Announce Partnership | Hacker News', 'links': 'https://news.ycombinator.com/item?id=40636980'}, {'title': 'Apple partners with OpenAI to roll out new artificial intelligence system', 'links': 'https://www.ft.com/content/d1194861-d68b-4c4b-8ee3-a2a05f32cb30'}]\n"
     ]
    }
   ],
   "source": [
    "import requests\n",
    "\n",
    "async def google_search(query, results, num_results=10):\n",
    "    \"\"\"\n",
    "    Perform a Google search and append the results to the provided list.\n",
    "\n",
    "    :param query: The search query.\n",
    "    :param api_key: Your Google API key.\n",
    "    :param cse_id: Your Custom Search Engine ID.\n",
    "    :param results: The list to append the results to.\n",
    "    :param num_results: The number of results to fetch.\n",
    "    \"\"\"\n",
    "    print(\"Searching for:\", query)\n",
    "    search_url = \"https://www.googleapis.com/customsearch/v1\"\n",
    "    params = {\n",
    "        'q': query,\n",
    "        'key': GOOGLE_API_KEY,\n",
    "        'cx': \"a2991ece49c8941ec\",\n",
    "        'num': num_results\n",
    "    }\n",
    "    response = requests.get(search_url, params=params)\n",
    "    search_results = response.json()\n",
    "\n",
    "    for item in search_results.get('items', []):\n",
    "        print(\"adding item\", item['title'])\n",
    "        results.append({\n",
    "            'title': item['title'],\n",
    "            'links': item['link']\n",
    "        })\n",
    "\n",
    "# Example usage\n",
    "results = []\n",
    "await google_search(\"latest news about apple and openai\", results)\n",
    "print(results)"
   ]
  },
  {
   "cell_type": "code",
   "execution_count": 4,
   "metadata": {},
   "outputs": [
    {
     "name": "stdout",
     "output_type": "stream",
     "text": [
      "Searching for: What is the latest news about apple and openai?\n",
      "adding item OpenAI and Apple announce partnership | OpenAI\n",
      "adding item Apple drops out of talks to join OpenAI investment round, WSJ ...\n",
      "adding item Microsoft, Apple Drop OpenAI Board Plans as Scrutiny Grows : r ...\n",
      "[['Enable JavaScript and cookies to continue'], ['reuters.comPlease enable JS and disable any ad blocker'], [\"Reddit - Dive into anything\\nSkip to main content\\nOpen menu\\nOpen navigation\\nGo to Reddit Home\\nr/OpenAI\\nA chip\\nA close button\\nGet App\\nGet the Reddit app\\nLog In\\nLog in to Reddit\\nExpand user menu\\nOpen settings menu\\nGo to OpenAI\\nr/OpenAI\\nr/OpenAI\\nOpenAI is an AI research and deployment company. OpenAI's mission is to ensure that artificial general intelligence benefits all of humanity. We are an unofficial community.\", 'OpenAI makes ChatGPT, Sora, and DALL·E 3.\\nMembers\\nOnline\\n•\\nHighwayTurbulent4188\\nMicrosoft, Apple Drop OpenAI Board Plans as Scrutiny Grows\\nNews\\nbloomberg.com\\nOpen\\nTop 1%\\nRank by size\\nPublic\\nAnyone can view, post, and comment to this community\\n&nbsp;\\n&nbsp;\\nTOPICS\\nInternet Culture (Viral)\\nAmazing\\nAnimals & Pets\\nCringe & Facepalm\\nFunny\\nInteresting\\nMemes\\nOddly Satisfying\\nReddit Meta\\nWholesome & Heartwarming\\nGames\\nAction Games\\nAdventure Games\\nEsports\\nGaming Consoles & Gear\\nGaming News & Discussion\\nMobile Games\\nOther Games\\nRole-Playing Games\\nSimulation Games\\nSports & Racing Games\\nStrategy Games\\nTabletop Games\\nQ&As\\nQ&As\\nStories & Confessions\\nTechnology\\n3D Printing\\nArtificial Intelligence & Machine Learning\\nComputers & Hardware\\nConsumer Electronics\\nDIY Electronics\\nProgramming\\nSoftware & Apps\\nStreaming Services\\nTech News & Discussion\\nVirtual & Augmented Reality\\nPop Culture\\nCelebrities\\nCreators & Influencers\\nGenerations & Nostalgia\\nPodcasts\\nStreamers\\nTarot & Astrology\\nMovies & TV\\nAction Movies & Series\\nAnimated Movies & Series\\nComedy Movies & Series\\nCrime, Mystery, & Thriller Movies & Series\\nDocumentary Movies & Series\\nDrama Movies & Series\\nFantasy Movies & Series\\nHorror Movies & Series\\nMovie News & Discussion\\nReality TV\\nRomance Movies & Series\\nSci-Fi Movies & Series\\nSuperhero Movies & Series\\nTV News & Discussion\\nRESOURCES\\nAbout Reddit\\nAdvertise\\nHelp\\nBlog\\nCareers\\nPress\\nCommunities\\nBest of Reddit\\nTopics\\nReddit Rules\\nPrivacy Policy\\nUser Agreement\\nReddit, Inc.', '© 2025. All rights reserved.']]\n",
      "Getting embeddings for text chunks 1 total chunks\n",
      "Getting embeddings for text chunks 1 total chunks\n",
      "Getting embeddings for text chunks 3 total chunks\n"
     ]
    }
   ],
   "source": [
    "import aiohttp\n",
    "import asyncio\n",
    "import nest_asyncio\n",
    "from bs4 import BeautifulSoup\n",
    "from concurrent.futures import ThreadPoolExecutor\n",
    "import requests\n",
    "import re\n",
    "import pandas as pd\n",
    "import faiss\n",
    "import numpy as np\n",
    "from openai import OpenAI\n",
    "\n",
    "# Apply the nest_asyncio patch\n",
    "nest_asyncio.apply()\n",
    "\n",
    "headers = {\n",
    "    \"User-Agent\": \"Mozilla/5.0 (Windows NT 6.1; Win64; x64) AppleWebKit/537.36 (KHTML, like Gecko) Chrome/108.0.0.0 Safari/537.36\"\n",
    "}\n",
    "\n",
    "total_results_to_fetch = 3  # total number of results to fetch\n",
    "chunk_size = 1000  # size of each text chunk\n",
    "\n",
    "dataframe_out_path = 'temp.csv'\n",
    "faiss_index_path = 'faiss_index.index'\n",
    "\n",
    "openai_api_key = OPENAI_API_KEY  # replace with your actual API key\n",
    "client = OpenAI(api_key=openai_api_key)\n",
    "\n",
    "async def fetch(session, url, params=None):\n",
    "    async with session.get(url, params=params, headers=headers, timeout=30) as response:\n",
    "        return await response.text()\n",
    "\n",
    "async def google_search(query, results, num_results=total_results_to_fetch):\n",
    "    \"\"\"\n",
    "    Perform a Google search and append the results to the provided list.\n",
    "\n",
    "    :param query: The search query.\n",
    "    :param api_key: Your Google API key.\n",
    "    :param cse_id: Your Custom Search Engine ID.\n",
    "    :param results: The list to append the results to.\n",
    "    :param num_results: The number of results to fetch.\n",
    "    \"\"\"\n",
    "    print(\"Searching for:\", query)\n",
    "    search_url = \"https://www.googleapis.com/customsearch/v1\"\n",
    "    params = {\n",
    "        'q': query,\n",
    "        'key': GOOGLE_API_KEY,\n",
    "        'cx': \"a2991ece49c8941ec\",\n",
    "        'num': num_results\n",
    "    }\n",
    "    response = requests.get(search_url, params=params)\n",
    "    search_results = response.json()\n",
    "\n",
    "    for item in search_results.get('items', []):\n",
    "        print(\"adding item\", item['title'])\n",
    "        results.append({\n",
    "            'title': item['title'],\n",
    "            'links': item['link']\n",
    "        })\n",
    "\n",
    "def get_all_text_from_url(url):\n",
    "    response = requests.get(url, headers=headers, timeout=30)\n",
    "    soup = BeautifulSoup(response.text, 'html.parser')\n",
    "    for script in soup([\"script\", \"style\"]):\n",
    "        script.extract()\n",
    "    text = soup.get_text()\n",
    "    lines = (line.strip() for line in text.splitlines())\n",
    "    chunks = (phrase.strip() for line in lines for phrase in line.split(\"  \"))\n",
    "    text = '\\n'.join(chunk for chunk in chunks if chunk)\n",
    "    return text\n",
    "\n",
    "def split_text_into_chunks(text, chunk_size):\n",
    "    sentences = re.split(r'(?<=[.!?]) +', text)\n",
    "    chunks = []\n",
    "    current_chunk = []\n",
    "\n",
    "    for sentence in sentences:\n",
    "        if sum(len(s) for s in current_chunk) + len(sentence) + 1 > chunk_size:\n",
    "            chunks.append(' '.join(current_chunk))\n",
    "            current_chunk = [sentence]\n",
    "        else:\n",
    "            current_chunk.append(sentence)\n",
    "\n",
    "    if current_chunk:\n",
    "        chunks.append(' '.join(current_chunk))\n",
    "\n",
    "    return chunks\n",
    "\n",
    "async def process_text_content(texts, chunk_size):\n",
    "    loop = asyncio.get_event_loop()\n",
    "    tasks = [loop.run_in_executor(None, split_text_into_chunks, text, chunk_size) for text in texts]\n",
    "    return await asyncio.gather(*tasks)\n",
    "\n",
    "async def get_embeddings_from_openai(client, text_chunks):\n",
    "    print(\"Getting embeddings for text chunks\", len(text_chunks), \"total chunks\")\n",
    "    embeddings_out = []\n",
    "    for text_chunk in text_chunks[:30]:\n",
    "        response = client.embeddings.create(input=text_chunk, model=\"text-embedding-3-small\")\n",
    "        embeddings_out.append(response.data[0].embedding)\n",
    "    return embeddings_out\n",
    "\n",
    "async def fetch_and_process_data(search_query):\n",
    "    \n",
    "    async with aiohttp.ClientSession() as session:\n",
    "        page_num = 0\n",
    "        results = []\n",
    "        while len(results) < total_results_to_fetch:\n",
    "            page_num += 1\n",
    "            await google_search(search_query, results)\n",
    "\n",
    "        urls = [result['links'] for result in results]\n",
    "\n",
    "        with ThreadPoolExecutor(max_workers=10) as executor:\n",
    "            loop = asyncio.get_event_loop()\n",
    "            texts = await asyncio.gather(\n",
    "                *[loop.run_in_executor(executor, get_all_text_from_url, url) for url in urls]\n",
    "            )\n",
    "            \n",
    "        \n",
    "        \n",
    "        # insert openai call to process text information here\n",
    "\n",
    "        chunks_list = await process_text_content(texts, chunk_size)\n",
    "        print(chunks_list)\n",
    "\n",
    "        embeddings_list = []\n",
    "        for chunks in chunks_list:\n",
    "            embeddings = await get_embeddings_from_openai(client, chunks)\n",
    "            embeddings_list.append(embeddings)\n",
    "\n",
    "        data = []\n",
    "        for i, result in enumerate(results):\n",
    "            if i >= len(embeddings_list):\n",
    "                print(f\"Error: No embeddings returned for result {i}\")\n",
    "                continue\n",
    "            for j, chunk in enumerate(chunks_list[i]):\n",
    "                if j >= len(embeddings_list[i]):\n",
    "                    print(f\"Error: No embedding returned for chunk {j} of result {i}\")\n",
    "                    continue\n",
    "                data.append({\n",
    "                    'title': result['title'],\n",
    "                    'url': result['links'],\n",
    "                    'chunk': chunk,\n",
    "                    'embedding': embeddings_list[i][j]\n",
    "                })\n",
    "\n",
    "        df = pd.DataFrame(data)\n",
    "        df.to_csv(dataframe_out_path, index=False)\n",
    "\n",
    "        # FAISS indexing\n",
    "        dimension = len(embeddings_list[0][0])  # assuming all embeddings have the same dimension\n",
    "        index = faiss.IndexFlatL2(dimension)\n",
    "\n",
    "        embeddings = np.array([entry['embedding'] for entry in data], dtype=np.float32)\n",
    "        index.add(embeddings)\n",
    "\n",
    "        faiss.write_index(index, faiss_index_path)\n",
    "\n",
    "await fetch_and_process_data(\"What is the latest news about apple and openai?\")\n",
    "\n"
   ]
  },
  {
   "cell_type": "markdown",
   "metadata": {},
   "source": [
    "## little embeddings and vector store creation"
   ]
  },
  {
   "cell_type": "code",
   "execution_count": 5,
   "metadata": {},
   "outputs": [
    {
     "data": {
      "text/plain": [
       "[{'title': 'Microsoft, Apple Drop OpenAI Board Plans as Scrutiny Grows : r ...',\n",
       "  'url': 'https://www.reddit.com/r/OpenAI/comments/1dzwnn0/microsoft_apple_drop_openai_board_plans_as/',\n",
       "  'chunk': \"Reddit - Dive into anything\\nSkip to main content\\nOpen menu\\nOpen navigation\\nGo to Reddit Home\\nr/OpenAI\\nA chip\\nA close button\\nGet App\\nGet the Reddit app\\nLog In\\nLog in to Reddit\\nExpand user menu\\nOpen settings menu\\nGo to OpenAI\\nr/OpenAI\\nr/OpenAI\\nOpenAI is an AI research and deployment company. OpenAI's mission is to ensure that artificial general intelligence benefits all of humanity. We are an unofficial community.\"},\n",
       " {'title': 'Microsoft, Apple Drop OpenAI Board Plans as Scrutiny Grows : r ...',\n",
       "  'url': 'https://www.reddit.com/r/OpenAI/comments/1dzwnn0/microsoft_apple_drop_openai_board_plans_as/',\n",
       "  'chunk': 'OpenAI makes ChatGPT, Sora, and DALL·E 3.\\nMembers\\nOnline\\n•\\nHighwayTurbulent4188\\nMicrosoft, Apple Drop OpenAI Board Plans as Scrutiny Grows\\nNews\\nbloomberg.com\\nOpen\\nTop 1%\\nRank by size\\nPublic\\nAnyone can view, post, and comment to this community\\n&nbsp;\\n&nbsp;\\nTOPICS\\nInternet Culture (Viral)\\nAmazing\\nAnimals & Pets\\nCringe & Facepalm\\nFunny\\nInteresting\\nMemes\\nOddly Satisfying\\nReddit Meta\\nWholesome & Heartwarming\\nGames\\nAction Games\\nAdventure Games\\nEsports\\nGaming Consoles & Gear\\nGaming News & Discussion\\nMobile Games\\nOther Games\\nRole-Playing Games\\nSimulation Games\\nSports & Racing Games\\nStrategy Games\\nTabletop Games\\nQ&As\\nQ&As\\nStories & Confessions\\nTechnology\\n3D Printing\\nArtificial Intelligence & Machine Learning\\nComputers & Hardware\\nConsumer Electronics\\nDIY Electronics\\nProgramming\\nSoftware & Apps\\nStreaming Services\\nTech News & Discussion\\nVirtual & Augmented Reality\\nPop Culture\\nCelebrities\\nCreators & Influencers\\nGenerations & Nostalgia\\nPodcasts\\nStreamers\\nTarot & Astrology\\nMovies & TV\\nAction Movies & Series\\nAnimated Movies & Series\\nComedy Movies & Series\\nCrime, Mystery, & Thriller Movies & Series\\nDocumentary Movies & Series\\nDrama Movies & Series\\nFantasy Movies & Series\\nHorror Movies & Series\\nMovie News & Discussion\\nReality TV\\nRomance Movies & Series\\nSci-Fi Movies & Series\\nSuperhero Movies & Series\\nTV News & Discussion\\nRESOURCES\\nAbout Reddit\\nAdvertise\\nHelp\\nBlog\\nCareers\\nPress\\nCommunities\\nBest of Reddit\\nTopics\\nReddit Rules\\nPrivacy Policy\\nUser Agreement\\nReddit, Inc.'},\n",
       " {'title': 'OpenAI and Apple announce partnership | OpenAI',\n",
       "  'url': 'https://openai.com/index/openai-and-apple-announce-partnership/',\n",
       "  'chunk': 'Enable JavaScript and cookies to continue'},\n",
       " {'title': 'Apple drops out of talks to join OpenAI investment round, WSJ ...',\n",
       "  'url': 'https://www.reuters.com/markets/deals/apple-drops-out-talks-join-openai-investment-round-wsj-says-2024-09-28/',\n",
       "  'chunk': 'reuters.comPlease enable JS and disable any ad blocker'},\n",
       " {'title': 'Microsoft, Apple Drop OpenAI Board Plans as Scrutiny Grows : r ...',\n",
       "  'url': 'https://www.reddit.com/r/OpenAI/comments/1dzwnn0/microsoft_apple_drop_openai_board_plans_as/',\n",
       "  'chunk': '© 2025. All rights reserved.'}]"
      ]
     },
     "execution_count": 5,
     "metadata": {},
     "output_type": "execute_result"
    }
   ],
   "source": [
    "def query_vector_store(query_embedding, k=5):\n",
    "    \"\"\"\n",
    "    Query the FAISS vector store and return the text results along with metadata.\n",
    "\n",
    "    :param query_embedding: The embedding to query with.\n",
    "    :param k: Number of nearest neighbors to retrieve.\n",
    "    :return: List of dictionaries containing text results and metadata of the k nearest neighbors.\n",
    "    \"\"\"\n",
    "    # Load the index\n",
    "\n",
    "    index = faiss.read_index(faiss_index_path)\n",
    "\n",
    "    # Ensure the query embedding is a numpy array with the correct shape\n",
    "    if not isinstance(query_embedding, np.ndarray):\n",
    "        query_embedding = np.array(query_embedding, dtype=np.float32)\n",
    "    if query_embedding.ndim == 1:\n",
    "        query_embedding = np.expand_dims(query_embedding, axis=0)\n",
    "\n",
    "    # Query the index\n",
    "    distances, indices = index.search(query_embedding, k)\n",
    "    \n",
    "    # Load the dataframe\n",
    "    df = pd.read_csv(dataframe_out_path)\n",
    "    \n",
    "    # Retrieve the text results and metadata\n",
    "    results = []\n",
    "    for idx in indices[0]:\n",
    "        result = {\n",
    "            'title': df.iloc[idx]['title'],\n",
    "            'url': df.iloc[idx]['url'],\n",
    "            'chunk': df.iloc[idx]['chunk']\n",
    "        }\n",
    "        results.append(result)\n",
    "    \n",
    "    return results\n",
    "\n",
    "def query_embeddings(text):\n",
    "\n",
    "    response = client.embeddings.create(input=text, model=\"text-embedding-3-small\")\n",
    "    return response.data[0].embedding\n",
    "\n",
    "\n",
    "embedding = query_embeddings(\"AGI\")\n",
    "results = query_vector_store(embedding, k=5)\n",
    "results\n"
   ]
  },
  {
   "cell_type": "markdown",
   "metadata": {},
   "source": [
    "## Create openai call to analyze this information"
   ]
  },
  {
   "cell_type": "code",
   "execution_count": 6,
   "metadata": {},
   "outputs": [
    {
     "name": "stdout",
     "output_type": "stream",
     "text": [
      "Searching for: what are the best skincare products for dark spots?\n",
      "adding item How to Get Rid of Dark Spots on Face, According to Dermatologists ...\n",
      "adding item The Best Dark Spot Correctors 2024 | The Strategist\n",
      "adding item 12 Best Dark Spot Correctors 2025, Tested and Reviewed | Glamour\n",
      "[['How to Get Rid of Dark Spots on Face, According to Dermatologists | VogueSkip to main contentSearchSearchFashionBeautyCultureLivingWeddingsRunwayShoppingChevronVideoVogue ClubPhotoVogueFashionBeautyCultureLivingWeddingsRunwayMoreChevronOpen Navigation MenuMenuNew ArrivalsThe Cold Weather ShopUnder $300Trending NowWardrobe EssentialsEditor Wish ListsShoppingDermatologists on How to Get Rid of Dark Spots on Your FaceBy Kiana Murden, Kayla Greaves , and Iman BalagamJune 17, 2024FacebookXPinterestSave StoryPhoto: Courtesy of EADEMSave this storySaveSave this storySaveProducts are independently selected by our editors. We may earn an affiliate commission from links.No matter your best efforts, sometimes developing (and then figuring out how to get rid of) dark spots on your face, otherwise known as hyperpigmentation is inevitable. “Dark spots occur when the skin produces excess melanin, the natural brown pigment that gives our skin color,” says board-certified dermatologist Dr. Michele Green.', '“The exact reason why dark spots appear ranges from acne scars to excessive sun exposure to aging to nutritional deficiencies. However, most dark spots are a result of sun exposure.”At-Home Dark Spot TreatmentsThe Expert-Approved Serum: SkinCeuticals C E Ferulic, $182The Gentle Exfoliant: Sunday Riley Good Genes All-In-One Treatment, $85The Retinol: SkinMedica Age Defense Retinol Complex .25, $64The Daily SPF: EltaMD UV Clear Broad-Spectrum SPF 46, $41The Buzzy Serum: Topicals Faded Serum, $38The Supercharged Peel: Dr.', 'Dennis Gross Alpha Beta Universal Daily Peel, $92The Brightening Serum: Ourself Daily Dark Spot Intercept, $260In this sectionWhat are dark spots?Types of dark spots—and why they occurWhich skin types are most prone to developing dark spots?Is it possible to get rid of dark spots entirely?How to get rid of dark spots on darker skin tones?What treatments help get rid of dark spots?Meet the Experts“When your skin is exposed to the sun, its natural reaction is to produce melanin, which helps to block UV radiation from further damaging our DNA and skin. This is often why, when we go into the sun for prolonged periods, our skin gets tanned,” she says. “It is also the reason why individuals with fair skin easily burn in the sun while those with darker skin complexions are less likely to get sunburned. Sometimes, the sun causes an uneven increase in melanin production.', 'This excess melanin gets clumped up and spills in between skin cells, giving the appearance of dark spots.”In short, dark spots are a result of hyperpigmentation. Green notes that most dark spots, such as sun or age spots are preventable with proper SPF protection and sun avoidance. But, if you notice a new spot that changes in size or color, it’s best to consult a board-certified dermatologist to rule out skin cancer. “Anything out of the ordinary, especially if you have fair skin or a family history of skin cancer, should be checked out. I recommend getting regular skin exams so nothing suspicious goes unnoticed,” Green says.', 'Once you’ve determined that a new freckle is harmless, it’s time to prevent and treat it through your at-home skin-care regimen.Below, dermatologists walk us through how to get rid of dark spots—from everyday sun protection to rejuvenating retinol treatments.Firework contentThis content can also be viewed on the site it originates from.Always Apply SPF“Your first line of defense is always going to be sunscreen. Everyone should wear at least SPF 30 on their face daily and reapply every two hours if outside in the sun, or sitting next to a window,” notes Dr. Corey L. Hartman, founder of Skin Wellness Dermatology in Birmingham, Alabama.Green suggests the EltaMD UV Clear, dubbing it one of the best sunscreens out there. “This product is a lightweight oil-free face sunscreen that works well with all skin types, including acne-prone and sensitive skin,” she says.', '\"It is recommended by the Skin Cancer Foundation for daily use and also contains sodium hyaluronate and lactic acid which helps keep the skin hydrated and your pores clear.” Or, take your pick between La Roche-Posay’s Toleriane or Supergoop!’s Unseen, which pair sheer nourishment with ample SPF protection. Because our experts emphasize the need to apply sunscreen throughout the day, be sure to stock up on convenient formulas that make reapplication simple.', 'Habit’s mister is a lightweight spray formula that delivers UV protection and won’t mess up your makeup.EltaMDUV Clear Broad-Spectrum SPF 46$41 DERMSTORE$41 AMAZONThis lightweight sunscreen has become a cult favorite, thanks to its broad-spectrum sun protection, along with its nourishing formula rich in lactic acid, niacinamide, and hyaluronic acid to keep skin hydrated.\\nLa Roche-PosayToleriane Double Repair Face Moisturizer UV$25 $19 AMAZONCeramide-3, niacinamide, glycerin, and La Roche Posay’s signature Thermal Spring Water create a skin-loving broad-spectrum SPF 30.\\nSupergoop!Unseen Sunscreen SPF 40$38 DERMSTORE$38 NORDSTROM$38 SEPHORAKnown for its transparent finish, this sunscreen contains red algae, frankincense, and a meadow foam seed complex to protect against blue light, make skin more resilient, and boost hydration levels.\\nHabitN°41 Mister$30 SEPHORA$30 HABITPerfect for those who wish to spritz on their SPF rather than rub it in, an herbal blend of geranium flower, rosemary leaf, and lavender oils work together to add antioxidant protection, tone skin, and reduce inflammation.\\nConsider Antioxidant-Rich Products“You also want to make sure you are using skin-care products with antioxidants, which are essential to helping reduce free radicals that can lead to hyperpigmentation,” says Hartman.', 'Consider vitamins A, C, and E, as well as ferulic acid, resveratrol, and niacinamide. Board-certified dermatologist Dr. Alexis Stephens is a fan of Eadem’s Milk Marvel for fading post-acne dark marks. “The unique formula also helps to prevent future hyperpigmentation and gently resurface the skin. It is uniquely formulated with the\\xa0key ingredients niacinamide, encapsulated vitamin C, amber algae and enzymes.” Stephens also likes the Isdin Sunisdin sun capsules to “help skin\\xa0fight photoaging and the pro-pigmentation UV rays”—along with boosting overall radiance and elasticity.', 'Otherwise, experts recommend the SkinCeuticals C E Ferulic again and again for its environmental protection, or the cosmetic chemist-formulated BeautyStat Universal C to prevent signs of aging without oxidizing.SkinCeuticalsC E Ferulic$182 SKINCEUTICALSA mix of vitamin C, vitamin E, and ferulic acid come together to protect against free radicals and help treat discoloration.\\nBeautyStatUniversal C Skin Refiner$85 DERMSTORE$85 NORDSTROM$85 ULTAThis formula is the world’s first 20% vitamin C serum that contains a stabilized form of the gold standard ingredient. This guarantees that your first pump will be as potent as the last.\\nIsdinSunisdin Daily Antioxidant Supplement$50 AMAZON$55 DERMSTOREHeal your skin from the inside out thanks to this antioxidant supplement. Take one pill once a day in the morning with plenty of water.', 'You should start to notice results within two weeks.\\nEADEMMilk Marvel Dark Spot Serum$68 SEPHORAFormulated specifically for skin of color, encapsulated vitamin C, niacinamide, amber algae, as well as papaya and pineapple enzymes help to curb hyperpigmentation fast.\\nReach for Retin-A or Retinol“It’s also important to get into the habit of gently exfoliating the skin\\xa0to remove dead skin cells that are often harboring excess pigment. This can be done by using a topical retinoid product that both treats and fades hyperpigmentation,” explains Stephens. While Green says that retin-a (tretinoin) or retinoids are best, an ingredient that can be picked up by a beauty subscription service like Curology, retinol is the next best bet without a prescription.“Retinol is a weaker over-the-counter formula of retinoids and can provide similar benefits in reducing the appearance of dark spots, although it will typically take much longer,” Green explains.', 'Take your pick of SkinCeuticals’s Retinol 0.3, SkinMedica’s Retinol Complex .25, or CeraVe’s Skin Renewing serum to experience the restorative benefits of the oft-recommended ingredient.CurologyFuture-Proof Rx$60 CUROLOGYThis prescription-strength product is customized just for you—so your skin will be getting exactly what it needs.\\nSkinMedicaAge Defense Retinol Complex .25$64 DERMSTOREThe formula’s retinol is paired with the brand’s trademark PhytoShield Complex to help curb irritation while also enhancing skin texture.\\nSkinCeuticalsRetinol 0.3$78 SKINCEUTICALSIf you’re new to retinoids, this may be the product for you.', 'A concentration of 0.3% retinol is paired with soothing ingredients like bisabolol to prevent any bad side physical effects.\\nCeraVeSkin Renewing Retinol Serum$25 $23 AMAZON$27 ULTAEncapsulated retinol helps to fight discoloration and smooth out fine lines, while ceramides protect the skin barrier.\\nIncorporate Gentle ExfoliantsHartman suggests “a product with an exfoliating active ingredient, like AHA, to help remove the top surface layer of the skin to treat dark spots.” This category of exfoliants includes glycolic, mandelic, and lactic acids which Stephens says “helps to remove dead skin cells while moisturizing the skin.” If you’d prefer a serum formula, Sunday Riley’s Good Genes is a solid option packed with lactic acid to exfoliate and brighten, whereas Alpha-H’s glycolic acid-enriched formula is an excellent liquid exfoliant known to improve skin tone and texture overnight. Similarly, at-home peels might be worth incorporating for those unable to get a professional treatment.', 'Take options by M-61 or Dr. Dennis Gross’s peels, for example; these supercharged towelettes help reduce the look of discoloration through a cocktail of exfoliating acids.Alpha-HLiquid Gold with 5% Glycolic Acid$56 NORDSTROM$56 SEPHORAIt’s not called Liquid Gold for no reason. Five percent glycolic acid, licorice root extract, and silk proteins team up to provide exfoliation and even out skin tone, all while protecting the skin’s hydration levels.\\nSunday RileyGood Genes All-In-One AHA Lactic Acid Treatment$85 DERMSTORE$85 SEPHORA$85 $72 AMAZONLactic acid clears away dead skin, while licorice and lemongrass brighten hyperpigmentation. Prickly pear extract ensures irritation is minimized.\\nM-61Powerglow Peel$32 AMAZON$32 BLUEMERCURYAll you need is one minute to complete this concentrated one-step exfoliating treatment. You’ll notice more even skin over time.\\nDr.', 'Dennis GrossAlpha Beta Universal Daily Peel$92 DERMSTORE$92 SEPHORAGentle enough to use daily, this two-step system uses a blend of glycolic, lactic, and malic acid to encourage cell turnover and minimize the appearance of dark spots, while green tea extract offers free radical protection.\\nTry Specialized TreatmentsThanks to a new class of specialized treatments, one can give their dark spots extra TLC. Those interested in a dermatologist-approved solution should seriously consider Cyspera’s system that Hartman advocates for. “Cyspera is my first choice for patients dealing with hyperpigmentation, especially patients of color, as hyperpigmentation can be difficult to treat successfully in darker skin,” he details. “Its active ingredient, cysteamine, is an exclusive amino acid derivative that helps reduce pigment and is effective in treating all skin tones.” Or, there’s board-certified dermatologist Dr.', 'Shereene Idriss’s recently-launched brand, PillowtalkDerm, which features a Major Fade collection formulated, in part, based on her own experience treating melasma and discoloration.On the other hand, there are a few contemporary beauty labels making waves for their efficacious offerings. There is Topicals Faded serum which uses a blend of tranexamic acid, azelaic acid, and niacinamide to reduce the look of dark spots, patches, and post-acne scarring. Ourself’s brightening serum, on the other hand, is powered by the brand’s patented technology enriched by the likes of peptides and powerhouse brightening ingredients, alongside vitamin C and niacinamide to intercept the overproduction of new melanin and lighten existing spots. Or perhaps a patch approach works best for your regimen?', 'In that case, Hero Cosmetics recently launched a new and improved version of its Micropoint patches which deposits tranexamic acid, vitamin C, licorice root, and niacinamide onto dark spots through 395 micropoints to fade post-blemish marks.CysperaIntensive System$299 CYSPERAThis three-step system tackles even the most stubborn dark spots. You’ll start to notice results after two weeks, with major improvements by week 16.\\nOurselfDaily Dark Spot Intercept$260 NORDSTROM$260 MODA OPERANDI$260 OURSELFThis non-irritating formula blends powerhouse ingredients vitamin C and niacinamide to give you noticeable results—fast.\\nTopicalsFaded Serum$38 AMAZONThis serum quickly went viral on the internet, simply because it works—thanks to powerful ingredients like niacinamide, along with azelaic and tranexamic acids.', 'Start by applying once a week, then slowly work your way up to daily use.\\nHero CosmeticsMighty Patch Micropoint for Dark Spots$12 AMAZON$13 ULTAMicropoints help ingredients like vitamin C and tranexamic acid penetrate deep into the skin.\\nWear Sun-Protective Clothing“The sunlight and visible light spectrum is responsible for the great majority\\xa0of hyperpigmentation, hence the number one way to both prevent and treat dark marks is properly using and applying a broad spectrum sunscreen SPF 40+ with HEVL/blue light\\xa0protection and taking additional sun protective\\xa0measures with sunglasses,\\xa0UPF clothing and seeking the shade when possible,” says Stephens. She reaches for the Bluestone Sunshields for extra protection. For the body, consider Lululemon’s shirt which offers UPF 40+ protection.', '“If possible, try to avoid going out for prolonged periods when the sun is at its strongest between 10 am and 4 pm.,” says Green, who adds that a wide-brimmed hat or sunglasses are a good choice to protect your eyes and scalp from the sun.Bluestone SunshieldsFull Lux Visor$68 NORDSTROMChoose from five metallic colors that will give your face complete physical protection from the sun.\\nLululemonUV Protection Running Long Sleeve Shirt$88 $64 LULULEMONOffering up to UPF 40+ protection, be sure to slip this shirt on before heading out to enjoy a day in the sun.\\nWhat are dark spots?Otherwise known as discoloration or hyperpigmentation, dark spots are any area of the skin that appear darker than the surrounding skin. “This is due to an excess production of melanin—the pigment responsible for skin color,” explains aesthetic physician Dr. Glenicia Nosworthy.Something else to note is that there are different types of dark spots—and they can all show up on the skin in various forms.', '“They can appear as sunspots, melasma, and post-inflammatory hyperpigmentation, which can result from acne, bug bites, and other skin rashes,” says board-certified dermatologist Dr. Marisa Garshick.The different types of dark spots—and why they occurSunspots or Solar Lentigines: According to Dr. Nosworthy, sunspots are typically developed as a result of prolonged UV exposure. “They are commonly found on areas of the skin that are frequently exposed to the sun, such as the face, hands, shoulders, and arms,” she adds.Post-Inflammatory Hyperpigmentation (PIH): This type of discoloration is a result of trauma or inflammation of the skin—and why derms caution us from popping our own pimples. However, PIH can also appear after an eczema or psoriasis flare-up.', 'You will notice that once the skin has healed, any injured area may appear darker than the surrounding skin.Melasma: “Melasma causes symmetrical, blotchy, brownish facial pigmentation, often appearing on the forehead, cheeks, and upper lip,” Dr. Nosworthy shares. “It is thought to be related to hormonal changes and sun exposure, and it is more common in women, particularly during pregnancy or when using hormonal contraceptives.”Age Spots or Liver Spots: Much like sunspots, age or liver spots are flat brown or black spots that appear as a result of long-term sun exposure.Which skin types are most prone to developing dark spots?Anyone can develop dark spots. However, the type and their triggers may vary, explains Garshick. “Those with fair skin may be more susceptible to sun spots resulting from cumulative UV exposure that leads to dark spots,” she shares.', '“Those with darker skin may be more likely to experience post-inflammatory hyperpigmentation that appears as a dark spot as a result of increased melanin production.”Nosworthy adds those with hormonally-sensitive skin—for example, those who are pregnant or taking hormonal contraceptives—as well as people who are prone to eczema or psoriasis are also more prone to developing dark spots like melasma or PIH as a result of hormonal fluctuations, skin trauma, or inflammation.Is it possible to get rid of dark spots entirely?Yes—which is great news for anyone with uneven skin tone due to dark spots. However, in order to treat them effectively, it’s important to develop a skin care routine that not only actively targets whichever form of discoloration you have, but also works to prevent it.', '“The most important thing is to remember sun protection,” says Garshick.For at-home treatment, Garshick recommends speaking with a dermatologist first to diagnose which type of dark spots you have—then a skin care regimen can be developed. In general, she’s a fan of retinoids for hyperpigmentation, as they not only help to prevent acne in the first place, but also even out skin tone by stimulating cell turnover. “Other ingredients that may be helpful include azelaic acid, kojic acid, topical tranexamic acid, as well as chemical exfoliants and peels such as glycolic acid or lactic acid,” she adds.Dark spots caused by melasma and sun or liver spots may be more difficult to treat at home.', 'In this case, Nosworthy recommends seeing a dermatologist for an in-office treatment like NeoGen PSR, which Nosworthy describes as “a medical grade energy-based device that uses nitrogen plasma to regenerate the skin’s architecture.” “It is great at treating sun spots, age spots, hyperpigmentation, melasma, scarring—including acne scarring—and more. Most importantly, it can be used on all skin types—light and dark.”If you choose to do an in-office procedure, just be sure to go over at-home aftercare protocols with your doctor once you’ve wrapped up each treatment. “Post-procedure care is especially important to minimize any potential for post-inflammatory hyperpigmentation,” says Garshick.', '“It can help to use a product like RescueMD DNA Repair Complex to enhance recovery and minimize irritation, it also works great to reduce inflammation.”How to get rid of dark spots on darker skin tones?When it comes to getting rid of dark spots on darker skin tones, there are plenty of options, including retinoids, hydroquinone, laser treatments, and chemical peels. However, board-certified dermatologist Anetta Reszko says that caution must be used to avoid hyperpigmentation and scarring.What treatments help get rid of dark spots?There are various treatments to choose from, ranging from in-office procedures like lasers and peels to at-home products featuring chemical exfoliants. Specifically for at home use, Reszko suggests people use a selection of hydroquinone, retinoids, vitamin C, and kojic acid. “These active ingredients work by inhibiting melanin production and promoting skin cell turnover.” Sun protection is also key in preventing the production or worsening of dark spots.', '“Look for a broad-spectrum sunscreen with an SPF of 30 or higher and apply it daily, even on cloudy days,” she warns.Hydroquinone: As a widely recognized topical agent for hyperpigmentation, hydroquinone works by inhibiting melanin production, effectively lightening dark spots and improving overall skin tone, explains Reszko. While it can be highly effective, it’s important to use it under dermatological supervision to minimize potential side effects like irritation or rebound pigmentation.Retinoids: “Renowned for their ability to accelerate cell turnover and stimulate collagen production, retinoids not only diminish dark spots but also address fine lines and wrinkles, making them a cornerstone in anti-aging skincare,” says Dr. Reszko.', 'She suggests starting with lower concentrations to mitigate potential irritation and always pairing their use with broad-spectrum sunscreen due to increased skin sensitivity.Chemical Peels: “Chemical peels offer a customizable approach to dark spot reduction by exfoliating the skin’s surface and promoting cell regeneration,” says Reszko. There’s a wide range of peels on the market, from superficial to deep peels. Each tailored treatment can effectively diminish pigmentation irregularities, revealing a more radiant complexion. Some of her favorites include Trichloroacetic Acid Peel, otherwise known as a TCA Peel (stronger and penetrates deeper into the skin and typically requires a longer recovery period), as well as Environ’s Cool Peel Technology (which features a low concentration of acid and low pH cool peeling system). This peeling process ultimately helps refine, retexture, and rejuvenate the skin.', 'Reszko suggests a series of mild peels rather than one intense peel, as they do not compromise the integrity of the epidermis, revealing the best skin. She also suggests going for a superficial peel such as salicylic, glycolic, or mandelic acid one, which is typically the better and safer option for people with darker skin. Make sure to apply plenty of sunscreen and moisturize the skin post-peel to optimize results.Laser Treatments: Reszko suggests opting for laser therapies such as Aerolase and Laser Genesis, which offer notable results with minimal downtime—both procedures are under 30 minutes and generally safe for most skin types. “By delivering specific wavelengths of light energy, these treatments effectively break down excess melanin while stimulating collagen production, yielding smoother, more even-toned skin,” she says.', 'However, before you start these treatments, make sure you consult with an expert to ensure this is the best treatment plan for your skin concerns.Chemical Exfoliants: “Alpha hydroxy acids (AHAs) and beta hydroxy acids (BHAs) serve as potent chemical exfoliants, aiding in the removal of dead skin cells and promoting cellular turnover,” explains Dr. Reszko. She continues, “Incorporating these ingredients into skin-care routines can gradually fade dark spots while improving overall skin texture and clarity.” These can be strong, so make sure to start with lower concentrations and gradually increase frequency to minimize potential irritation (baby steps!), and make sure to pack on plenty of sunscreen.Meet the ExpertsDr. Glenicia Nosworthy is an internal medicine physician, specializing in aesthetic medicine. She’s also the founder of Glo by Glen, a non-surgical cosmetic optimization practice in Brooklyn, NY.Dr.', 'Marisa Garshick is a board-certified dermatologist and a clinical assistant professor at Cornell University.Dr. Alexis Stephens is a board-certified dermatologist and the founder of Parkland Dermatology & Cosmetic Surgery in Coral Springs, FL.Dr. Corey Hartman is the founder and medical director of Skin Wellness Dermatology in Birmingham, Alabama.Dr. Michele Green is a Yale-educated cosmetic dermatologist based in New York City.Dr.', 'Anetta Reszko is a board-certified dermatologist and Mohs surgeon based in New York City.Your Summer Beauty Routine Sorted60+ skincare, makeup, hair, and fragrance picks.SHOP THE EDITDiscover More Beauty Recommendations From Vogue Shopping14 Best LED Face Masks, According to Dermatologists and Vogue EditorsThe Best Korean Skin Care Products of 2024 Loved By K-Beauty ExpertsThe Best At-Home Laser Hair Removal Devices, According to Experts11 Best Hair Growth Serums for Long, Strong HairFrom NuFace to Currentbody, the Best Beauty Tools Deliver a Glowing, Sculpted Appearance13 Best Moisturizers With SPF That Effortlessly Combine Hydration With Sun ProtectionThe Tried-And-True Skin-Care Products Vogue Editors Swear ByThe Best Wrinkle Creams That Actually Work, According to Skin Care ExpertsWritten by Vogue StaffTopicsHow-ToHyperpigmentationRead MoreSkinNot All SPFs Are Created Equal—16 Vogue Editors Share Their Hero SunscreensBy Rachel Besser and Kiana MurdenSkin23 of the Best Retinol Serums and Creams That Will Transform Your SkinBy Kiana Murden, Kari Molvar, and Jenna RennertShoppingThe Best Eye Creams to Treat Dark Circles, According to DermatologistsBy Kiana Murden and Jenny BergShoppingThese Are The Best Skin Care Products of 2024, According to Vogue EditorsBy Kiana MurdenBeautyThe Best Retinol Serums and Creams, According to DermatologistsBy Kiana MurdenShoppingThe Best Face Serums, According to Dermatologists and EstheticiansBy Arden Fanning AndrewsThe latest fashion news, beauty coverage, celebrity style, fashion week updates, culture reviews, and videos on Vogue.com.FacebookXPinterestInstagramTiktokMore from VogueNewsletterManage AccountVerify SubscriptionContact usAbout VogueCareersProjectsVogue ArchiveForces of FashionVogue College of FashionSee More StoriesFashionBeautyCultureLivingRunwayShoppingMagazineGift GuidesBest of SaleUser AgreementPrivacy PolicyYour California Privacy RightsAccessibility HelpMastheadVisual Stories© 2025 Condé Nast.', 'All rights reserved. Vogue may earn a portion of sales from products that are purchased through our site as part of our Affiliate Partnerships with retailers. The material on this site may not be reproduced, distributed, transmitted, cached or otherwise used, except with the prior written permission of Condé Nast. Ad ChoicesCN Fashion & BeautySelect international siteUnited StatesLargeChevronAdriaArabiaAustraliaBrasilBritainChinaCzechoslovakiaEspañaFranceGermanyGreeceHong KongIndiaItaliaJapanKoreaMéxicoNederlandPhilippinesPolskaPortugalScandinaviaSingaporeTaiwanThailandTürkiyeUkraine'], ['', \"The Best Dark Spot Correctors 2024 | The Strategist\\nIntelligencer\\nThe Cut\\nVulture\\nThe Strategist\\nCurbed\\nGrub Street\\nMagazine\\nSubscribe to the Magazine\\nGive a Gift Subscription\\nBuy Back Issues\\nCurrent Issue Contents\\nNew York Shop\\nSubscribe\\nSign In\\nAccount\\nProfile\\nSign Out\\nMenu\\nMenu\\nClose\\nClose\\nSales\\nSales\\nGifts\\nGift Guides\\nBy Recipient\\nBy Interest\\nBy Budget\\nBy Occasion\\nThe Gift Scout\\nBeauty\\nBeauty\\nBath\\u2009+\\u2009Body\\nFragrance\\nGrooming\\nHair\\nMakeup\\nSkin-Care\\nHome\\nHome\\nAir Quality\\nBathroom\\nCleaning\\nDecor\\nFurniture\\nOrganization\\nSleep\\nVacuums\\nKids + Babies\\nKids and Babies\\nBaby Feeding\\nBaby Gear\\nBaby Sleep\\nPregnancy\\nSchool\\nToys\\nKitchen\\nKitchen and Dining\\nCoffee\\nCookware\\u2009+\\u2009Utensils\\nDining\\u2009+\\u2009Entertaining\\nFood\\u2009+\\u2009Drinks\\nGrilling\\nLarge Appliances\\nSmall Appliances\\nFashion\\nFashion\\nKids' Fashion\\nMen's Fashion\\nWomen's Fashion\\nUnisex Fashion\\nTech\\nTech\\nAudio\\nElectronics\\nSmart Home\\nTablets\\u2009+\\u2009Smartwatches\\nVideo\\nTravel\\nTravel\\nLuggage\\nPacking\\u2009+\\u2009Gear\\nWellness\\nFitness\\nAdult\\nFitness\\nHealth\\nMassagers\\u2009+\\u2009Recovery\\nOutdoor Leisure\\nProductivity\\nSleep Gear\\nAbout\\nNewsletters\\nNew York App\\nLike Us\\nFollow Us\\nFollow Us\\nNYMag.com\\nNew York Magazine\\nIntelligencer\\nVulture\\nThe Cut\\nThe Strategist\\nGrub Street\\nCurbed\\nSearch\\nSearch\\nClose\\nMenu\\nMenu\\nClose\\nClose\\nSales\\nSales\\nGifts\\nGift Guides\\nBy Recipient\\nBy Interest\\nBy Budget\\nBy Occasion\\nThe Gift Scout\\nBeauty\\nBeauty\\nBath\\u2009+\\u2009Body\\nFragrance\\nGrooming\\nHair\\nMakeup\\nSkin-Care\\nHome\\nHome\\nAir Quality\\nBathroom\\nCleaning\\nDecor\\nFurniture\\nOrganization\\nSleep\\nVacuums\\nKids + Babies\\nKids and Babies\\nBaby Feeding\\nBaby Gear\\nBaby Sleep\\nPregnancy\\nSchool\\nToys\\nKitchen\\nKitchen and Dining\\nCoffee\\nCookware\\u2009+\\u2009Utensils\\nDining\\u2009+\\u2009Entertaining\\nFood\\u2009+\\u2009Drinks\\nGrilling\\nLarge Appliances\\nSmall Appliances\\nFashion\\nFashion\\nKids' Fashion\\nMen's Fashion\\nWomen's Fashion\\nUnisex Fashion\\nTech\\nTech\\nAudio\\nElectronics\\nSmart Home\\nTablets\\u2009+\\u2009Smartwatches\\nVideo\\nTravel\\nTravel\\nLuggage\\nPacking\\u2009+\\u2009Gear\\nWellness\\nFitness\\nAdult\\nFitness\\nHealth\\nMassagers\\u2009+\\u2009Recovery\\nOutdoor Leisure\\nProductivity\\nSleep Gear\\nAbout\\nNewsletters\\nNew York App\\nLike Us\\nFollow Us\\nFollow Us\\nNYMag.com\\nNew York Magazine\\nIntelligencer\\nVulture\\nThe Cut\\nThe Strategist\\nGrub Street\\nCurbed\\nLeave a Comment\\nSearch\\nSearch\\nClose\\nGift Guides\\nSales\\nBeauty\\nHome\\nKitchen\\u2009+\\u2009Dining\\nFashion\\nTravel\\nTech\\u2009+\\u2009Electronics\\nFitness\\nKids\\u2009+\\u2009Babies\\nEvery product is independently selected by (obsessive) editors.\", 'Things you buy through our links may earn us\\xa0a commission.\\nskin-care treatments\\nUpdated\\nOct. 4, 2024\\nThe Best Dark-Spot Correctors, According to Dermatologists\\nBy\\nArielle Avila,\\na writer at the Strategist covering wardrobe basics and personal care.\\nShe joined the Strategist in 2020 as a junior writer. Previously, she wrote about style at Texas Monthly.\\nRecommended by Experts\\nA series where we find out which products the professionals (who really know what they’re talking about) actually use and really stand behind. Read more here.\\nRecommended by Experts\\nA series where we find out which products the professionals (who really know what they’re talking about) actually use and really stand behind. Read more here.\\nPhoto-Illustration: The Strategist; Photos: Retailers\\nIn this article\\nBest overall\\nBest drugstore\\nBest for sensitive skin\\nBest vitamin C\\nBest toner\\nBest moisturizer\\nDark spots — whether they’re a result of scarring, sun exposure, or inflammation —\\xa0are tricky to deal with.', 'There are a number of products out there claiming they’ll brighten and even out skin, making it even trickier to pick the right one for you and your skin type. When I spoke to dermatologists for their recommendations, they said to look for formulations with retinol; vitamin C; kojic, azelaic, or tranexamic acid; and licorice-root extract. “Many of these ingredients inhibit tyrosinase, a key enzyme in the production of melanin,” Dr. Marisa Garshick of MDCS Dermatology explains. The lightening ingredient hydroquinone was also brought up, but Garshick and Dr. Jennifer Gordon at Westlake Dermatology both cautioned that it should be prescribed by a dermatologist to minimize any risk of ochronosis.\\nBelow is a list of the best dark-spot correctors according to the five dermatologists I spoke to. One note before getting into the products: Every expert I spoke to emphasized the importance of wearing sunscreen diligently.', 'It keeps dark spots from coming back after treatment, and more importantly, it protects you from further UV damage.\\nUpdate on October 4, 2024: Replaced the out-of-stock YSE Beauty Vitamin C Serum Morning Cocktail with the Revision C+ Correcting Complex 30 as the best vitamin-C dark-spot corrector; updated prices and checked stock for all other products.\\nBest dark-spot corrector overall\\nSkinCeuticals Discoloration Defense\\n$110\\nSkinCeuticals’ Discoloration Defense is effective, lightweight, and gentle enough for most skin types and everyday use. Two dermatologists I spoke with\\xa0— Dr. Gordon and Dr. Brendan Camp of MDCS Dermatology —\\xa0recommended it, and it’s been brought up in the past when we tackled getting rid of dark spots on the body. Surprisingly, it’s not made with retinol or vitamin C, the two ingredients found in the rest of the products listed.', 'Instead, it’s formulated with a cocktail of tranexamic acid, kojic acid, niacinamide, and sulfonic acid, which work together to exfoliate, improve brightness, and reduce the chances of dark spots reappearing.\\n$110\\nat Dermstore\\nBuy\\n$110\\nat SkinCeuticals\\nBuy\\nBest less expensive dark-spot corrector\\nLa Roche Posay MelaB3 Serum\\n$45\\n$45\\nIf Skinceuticals is out of your budget, La Roche-Posay’s new Mela B3 serum comes under $50 and is recommended by Dr. Garshick. It’s formulated with a new ingredient patented by the brand called Melasyl, which is said to combat discoloration and even out skin tone. Plus, it contains 10 percent niacinamide (also known for fighting dark spots) and soothing thermal spring water to lessen irritation.\\n$45\\nat Amazon\\nBuy\\n$45\\nat Target\\nBuy\\nBest drugstore dark-spot corrector\\nNeutrogena Rapid Tone Repair Dark Spot Corrector\\n$20\\n$29 now 31% off\\n$20\\nNeutrogena’s Rapid Tone Repair was mentioned by Dr.', 'Hope Mitchell of Mitchell Dermatology and is even less expensive than the above. It’s made with a blend of vitamin C, retinol, and hyaluronic acid for reducing dark spots and smoothing skin texture. While the vitamin C fades discoloration, the retinol promotes skin-cell turnover. And, of course, the hyaluronic acid provides hydration. Dr. Mitchell says it’s lightweight and fast-absorbing, so it’s easy to incorporate into most skin-care routines.\\n$20\\nat Amazon\\nBuy\\n$21\\nat Target\\nBuy\\nBest dark-spot corrector for sensitive skin\\nCeraVe Resurfacing Retinol Serum\\n$19\\n$22 now 14% off\\n$19\\nAs I mentioned above, retinol is a powerhouse ingredient for combatting dark spots. CeraVe’s Resurfacing Retinol Serum is made with encapsulated retinol, meaning it’s released over time, and contains licorice-root extract. Dr.', 'Garshick points out that it contains ceramides, to help support and strengthen the natural skin barrier, and soothing niacinamide, which also makes it a great option for those with sensitive skin.\\n$19\\nat Amazon\\nBuy\\n$22\\nat Dermstore\\nBuy\\nBest vitamin-C dark-spot corrector\\nRevision C+ Correcting Complex 30\\n$185\\nRevision’s formula includes a high concentration of C, the brand’s patented MelaPATH technology (an antioxidant blend that combats free radicals), and vitamin E. Dr. Rita Linkner of Spring Street Dermatology, who likes the formula’s lightweight feel, recommended it for our roundup of the best vitamin-C serums.', 'It should be easier to tolerate, since it’s made with THC ascorbate instead of L-ascorbic acid, but the high concentration means an adjustment period.\\n$185\\nat Amazon\\nBuy\\n$185\\nat Dermstore\\nBuy\\nBest less expensive vitamin-C dark-spot corrector\\nHyper Skin Brightening Clearing Vitamin C Serum\\n$36\\n$36\\nFor a much less expensive vitamin-C serum that helps with dark spots, our beauty writer Tembe Denton-Hurst is a fan of Hyper’s formulation. After five months, she noticed less hyperpigmentation around her chin, where her stubborn maskne turned into even more stubborn dark spots. It’s made with 15 percent vitamin C, bearberry, licorice root extract, kojic acid, turmeric, and less than one percent salicylic acid.', 'That combination of ingredients brightens skin and prevents future breakouts.\\n$36\\nat Sephora\\nBuy\\nBest dark-spot correcting toner\\nVersed Weekend Glow Daily Brightening Solution\\n$13\\n$18 now 28% off\\n$13\\nVersed, which we mentioned above, also makes a brightening toner that comes recommended by Dr. Adeline Kikam of @brownskinderm. Formulated with a combination of AHAs like lactic and glycolic acid, kojic and azelaic acid, and bearberry extract, it works to even out skin through gentle exfoliation. Plus, it’s been touted as a P50-ish dupe by our beauty columnist Rio Viera-Newton.\\n$13\\nat Amazon\\nBuy\\n$18\\nat Versed Skincare\\nBuy\\nBest dark-spot-correcting moisturizer\\nDr. Idriss Major Fade Active Seal Dark Spot Vitamin C Gel Moisturizer\\n$58\\n$58\\nPhoto-Illustration: The Strategist; Photo: Retailer\\nInstead of adding a serum or toner to your routine, consider swapping out your moisturizer. This one from dermatologist Dr.', 'Idriss’s line is formulated with vitamin C,\\xa04-Butylresorcinol, and ceramides, so it’s both brightening and hydrating. Strategist writer Rachael Griffiths tested it out for the Beauty Brief newsletter and says her acne scars were much lighter, her complexion was brighter, and her skin felt deeply nourished after six weeks.\\n$58\\nat Dr. Idriss\\nBuy\\n$58\\nat Sephora\\nBuy\\nget the strategist newsletter\\nActually good deals, smart shopping advice, and exclusive discounts.\\nEmail\\nThis site is protected by reCAPTCHA and the Google\\nPrivacy Policy and\\nTerms of Service apply.\\nVox Media, LLC Terms and Privacy Notice\\nBy submitting your email, you agree to our Terms and Privacy Notice and to receive email correspondence from us.\\nThe Strategist is designed to surface the most useful, expert recommendations for things to buy across the vast e-commerce landscape. Some of our latest conquests include the best acne treatments, rolling luggage, pillows for side sleepers, natural anxiety remedies, and bath towels.', 'We update links when possible, but note that deals can expire and all prices are subject to change.\\nTags:\\nthe strategist\\nbeauty\\nrecommended by experts\\nskin-care treatments\\nskin-care\\nMore\\nShow\\nLeave a Comment\\nThe Best Dark-Spot Correctors, According to Dermatologists\\nEvery product is independently selected by (obsessive) editors.', 'Things you buy through our links may earn\\xa0us a commission.\\nDeal of the Day\\n$250\\nNOW $130\\nDeal of the Day\\nAutomate the Chore You Hate With a Nearly Half-Off Roomba\\nMicro Sales\\n$60\\nNOW $48\\n$50\\nNOW $40\\n$298\\nNOW $179\\n$135\\nNOW $68\\nwith code: VDAY25\\n20 Things on Sale That Would Make Good Valentine’s Day Gifts\\nSee All In Sale\\nGreatest Hits\\nThe Strategist Gift Scout: Our Gift Search Tool\\nThe Strategist 100: Our Most Stood-Behind Products\\nThe Strategist Home Catalogue\\nThe Strategist Baby Registry 100\\nWelcome to the Strategist Drugstore\\nMost Viewed Stories\\nThe 5 Very Best Noise-Canceling Headphones\\nWhat Thurston Moore Can’t Live Without\\nIs This Chappell Roan’s Grammys Notebook?\\n20 Things on Sale That Would Make Good Valentine’s Day Gifts\\nWhat Natasha Rothwell Can’t Live Without\\nWhat Thurston Moore Can’t Live Without\\nThe 5 Very Best Noise-Canceling Headphones\\nWhat Natasha Rothwell Can’t Live Without\\n20 Things on Sale That Would Make Good Valentine’s Day Gifts\\n10 Things That Delighted Us Last Week: From UGG Ultra Minis to $52 Pencils\\nGreatest Hits\\nThe Strategist Gift Scout: Our Gift Search Tool\\nThe Strategist 100: Our Most Stood-Behind Products\\nThe Strategist Travel 100\\nThe Strategist Home Catalogue\\nThe Strategist Sleep 100\\nSign In to Comment\\nToday’s Top Clicked\\niRobot Roomba Vac Robot Vacuum (Q0120)\\n$130\\n$130\\n$250\\n48% off\\nBuy\\nat Amazon\\nPatagonia Ultralight Black Hole Mini Hip Pack - 1L\\nFrom\\n$17\\n$17\\n$35\\n51% off\\nBuy\\nat Patagonia\\nDreo Smart Humidifer - 6L\\n$70\\nBuy\\nat Amazon\\nCore Products Tri-Core Cervical Pillow\\nFrom\\n$48\\n$48\\n$63\\n24% off\\nBuy\\nat Amazon\\nOld Navy EveryWear Crop T-shirt\\n$4\\n$4\\n$13\\n66% off\\nBuy\\nat Old Navy\\nRelated Stories\\nskin-care treatments\\nThe Best Skin-Care Routine for Your 50s\\nskin-care treatments\\nThe Best Skin-Care Routine for Your 40s\\nskin-care treatments\\nThe Best Skin-Care Routine for Teens and Tweens, According to Dermatologists\\nskin-care treatments\\nThe Best Anti-Aging Serums, According to Dermatologists\\nskin-care treatments\\nThe Best Snail-Mucin Products, According to Experts\\nskin-care treatments\\nThe Best Eye Creams for Mature Skin\\nskin-care treatments\\nThe 9 Very Best Products for Preventing and Fading Melasma\\nskin-care treatments\\nThe 14 Very Best Keratosis-Pilaris Treatments\\nskin-care\\nWhat To Do If You’ve Over Exfoliated, According To Dermatologists\\nskin-care treatments\\nThe Best Products for Perimenopausal Skin, According to Dermatologists\\nMore Stories\\nBeauty\\nHome\\nKitchen & Dining\\nFashion\\nElectronics\\nKids & Babies\\nGift Guides\\nFitness\\nLike Us\\nFollow Us\\nFollow Us\\nFollow Us\\nTikTok\\nFollow Us\\nAbout The Strategist\\nAbout New York Magazine\\nNewsletters\\nHelp\\nContact\\nPress\\nMedia Kit\\nWe’re Hiring\\nPrivacy\\nTerms\\nAd Choices\\nAccessibility\\nDo not sell or share my personal data\\nThe Strategist is a Vox Media Network.\\n© 2025 Vox Media, LLC.', 'All rights reserved.'], ['12 Best Dark Spot Correctors 2025, Tested and Reviewed | GlamourSkip to main contentNewsletterOpen Navigation MenuMenuStyleBeautyEntertainmentShoppingWellnessCultureGiftsVideoWomen of the YearOpen Navigation MenuMenuNewsletterStyleBeautyEntertainmentShoppingWellnessCultureGiftsVideoWomen of the YearFacebookXInstagramPinterestTiktokSkincare12 Best Dark Spot Correctors, Approved by Dermatologists and Tested By UsWe love an at-home treatment that really works.By Kristine Thomason, Brigitt Earley, and Alanna Martine KilkearyJanuary 13, 2025Collage: Gabrielle Langdon; Photos: Courtesy of BrandAll products are independently selected by our editors. If you buy something, we may earn an affiliate commission.The best dark spot correctors can help tackle stubborn hyperpigmentation, whether it’s from sun damage, acne scars, or natural spots from aging.', 'To find the best options for all skin types and concerns, we spoke with dermatologists and then tested dozens of products ourselves, including Glamour Beauty Award–reader’s choice picks. As a beauty writer who’s struggled with breakouts and blemishes for nearly a decade, I’ve tested brightening moisturizers, retinol serums, acne creams—you name it. One of my favorite products is SkinCeutical Discoloration Defense because it effectively fades away dark spots. After consistently using it, my skin looked clearer and brighter.', 'Ahead, a list of derm-approved spot correctors for your face, hands, back, or arms that actually work.The best dark spot correctors, at a glanceBest Overall: Skinceuticals Discoloration Defense, $108Best Moisturizer for Dark Spots: The Ordinary Azelaic Acid Suspension 10%, $12Best Serum for Dark Spots: Biossance Squalane + Vitamin C Dark Spot Serum, $60Best for Oily, Acne-Prone Skin: CeraVe Resurfacing Retinol Serum, $19Best for Mature Skin: L’Oreal Revitalift Bright Reveal Brightening Day Moisturizer SPF 30, $14Best for Melanated Skin Tones: La Roche-Posay MelaB3 Serum, $45Your dark spot corrector questions, answeredWhat are dark spots?AccordionItemContainerButtonLargeChevronA dark spot is an area of extra pigment in the skin, Carmen Castilla, MD, a board-certified dermatologist in NYC, tells Glamour. They can come in a variety of forms, including age spots, sun spots, and melasma.', 'And though they often fade in time, skin-care products like dark spot correctors can speed up the process, evening out your skin tone. Ingredients like hydroquinone, turmeric, and other proven brighteners accelerate skin resurfacing and minimize pigment, says Rachel Nazarian, MD, a board-certified dermatologist at Schweiger Dermatology Group in New York City.What ingredients should you look for in a dark spot corrector?AccordionItemContainerButtonLargeChevronDark spot correctors help break down hyperpigmentation and can prevent the formation of dark spots by inhibiting the transfer of melanin to skin cells, says Dendy Engelman, MD, a board-certified NYC-based dermatologist in NYC. But it all comes down to the ingredients that help you get there.Dermatologists say to look for alpha hydroxy acids or AHAs (such as lactic acid, glycolic acid, malic acid), retinol, vitamin C, and niacinamide. Dr.', 'Engelman also recommends kojic acid, which is derived from fermented rice, for newer dark spots and acne scars.According to board-certified dermatologist Hope Mitchell, MD, tranexamic acid, cysteamine, azelaic acid, soy, and arbutin are also options that work well to lighten dark spots. “These ingredients will inhibit melanin production and accelerate skin cell turnover, which helps fade pigmentation over time,” she notes. There is another ingredient, called hydroquinone, which can also be effective for lightening dark spots, but derms recommend proceeding with caution. “This ingredient is not safe for those with deeper skin tones, and in some cases, it can actually exacerbate hyperpigmentation in individuals with darker skin,” says Dr.', 'Engelman.How to incorporate dark spot correctors into your routineAccordionItemContainerButtonLargeChevronThe dermatologists we spoke with recommend using dark spot correctors like vitamin C, AHAs, azelaic acid, ferulic acid, and alpha arbutin in the morning and dark spot correctors like retinol in the evening, as it can make skin extra sensitive in the sun. And remember: You should avoid using products like retinol and vitamin C serum simultaneously; doing so is likely to cause irritation, says Dr. Castilla. Additionally, consistency is key, and sunscreen will make a world of a difference, according to Dr. Mitchell.Does retinol help dark spots?AccordionItemContainerButtonLargeChevron“Retinol, also known as vitamin A, can help fade hyperpigmentation marks by stimulating cell turnover, so regular use can help fade dark spots over time and has many benefits for the appearance, health, and function of skin overall,” says Dr. Engelman.', 'It’s important to note that retinol can be slightly irritating and drying to certain skin types, so it’s key to build up your tolerance while using it (start with applying it once a week, then twice a week, every other day, and so on).How to treat dark spots on the faceAccordionItemContainerButtonLargeChevronThere are many different ways to remove dark spots on the face: laser treatments, microdermabrasion, chemical peels, and dark spot correctors. The latter is most accessible both from a convenience and a cost perspective, since you can use them daily in the comfort of your own home.How to treat dark spots on the bodyAccordionItemContainerButtonLargeChevronIf you’re looking to correct dark spots on the body, look for retinol-based body lotions and creams. Peep the ingredient list for vitamin C for brightening and niacinamide for anti-inflammatory and anti-aging benefits. “And make sure to exfoliate regularly to remove dead skin cells,” says Dr. Mitchell.', 'As always, sunscreen is critical for both the face and body to prevent further darkening.How we tested dark spot correctorsAccordionItemContainerButtonLargeChevronWe tested dark spot correctors over a series of weeks to months, and some editors (including myself) have been using these products for close to a year or two. We looked for consistency, smell, how quickly they absorbed into the skin and how our skin felt after application.', 'We also paid close attention to how our skin looked after one to two to three weeks of the serums, if we noticed a difference (whether minimal or drastic), and if we think we’ll continue using it in the future.Meet the expertsAccordionItemContainerButtonLargeChevronCarmen Castilla, MD, board-certified NYC-based dermatologistRachel Nazarian, MD, board-certified dermatologist at Schweiger Dermatology GroupDendy Engelman, MD, board-certified NYC-based dermatologistHope Mitchell, MD, board-certified dermatologist and founder of Mitchell DermatologyBest Overall: Skinceuticals Discoloration DefenseCourtesy of brandSkinceuticals Discoloration Defense$108 Dermstore$108 SkinceuticalsOriginal video by Glamour commerce writer Alanna Martine KilkearyGlamour staffers have tested dozens of Skinceutical products and overwhelmingly give the brand’s products rave reviews.', 'Derms agree that if you’re targeting dark spots from the sun, acne, or medical procedures, you can’t go wrong with this one.Typically, Dr. Castilla recommends a combination approach to treating hyperpigmentation—that’s why she loves the trio of synergistic brightening ingredients present in Skinceuticals’ Discoloration Defence formula: tranexamic acid, kojic acid, and niacinamide. This powerhouse product comes at a higher price tag than other dark spot correctors, but clinical studies have shown that it can be effective at reducing discoloration. Dr. Castilla also notes that this formula is safe to use during pregnancy.Glamour commerce writer Alanna Martine Kilkeary has been a huge fan of this discoloration serum for about three years now. “This serum is extremely lightweight, melts into the skin, and absorbs quickly, which makes it easy to incorporate into my morning skin-care routine.', 'After using it on and off for a couple of years, I always find myself going back to it when I have a stubborn spot left over from a pimple, and it takes about three weeks for it to fully fade away. This serum is consistent and reliable for that reason, and will always be my go-to solution. The only thing I don’t love about this pick is that it’s a little sticky and oxidizes quickly, so I recommend using it all at once. If you want to use it on a case by case basis like me, keep it stored somewhere dark and cool.”Key ingredient(s): Tranexamic acid, kojic acid, niacinamideSkin types: All skin typesSize: 1 fl.', \"oz.Pros: Pregnancy-safeCons: PriceyOriginal image by Glamour commerce writer Alanna Martine KilkearyOriginal image by Glamour commerce writer Alanna Martine KilkearyBest for Mature Skin: L’Oréal Paris Revitalift Bright Reveal Brightening Day Moisturizer SPF 30Courtesy of brandL'Oreal Paris Revitalift Bright Reveal Brightening Day Moisturizer SPF 30$20 $15 Amazon$20 WalmartOriginal video by Glamour contributor Brigitt EarlyLooking for moisturizer, SPF, and dark spot treatment all in one? Look no further than L’Oréal Paris Revitalift. This brightening product also contains vitamin C, retinol, and glycolic acid—all at a drugstore price. “I generally say not to use retinol and glycolic on the same day, but this formulation is gentle while still being effective,” says Dr. Castilla.“I love the silky, smooth texture of this moisturizer,” says Glamour contributor Brigitt Earley. “It spreads readily and evenly—two pumps was the perfect amount for my face and neck.\", 'I have a few small dark spots on my cheek, and while I haven’t yet seen significant improvement there, I do appreciate the instant brightening effect the product gives my skin. It adds the perfect light sheen for a glowy, low-maintenance makeup look.\"Key ingredient(s): Glycolic acid, vitamin C, pro-retinolSkin types: Dry skin, sensitive skinSize: 1 fl. oz.Pros: Contains SPF, gentle formulaCons: Skin may be more sensitive to sunlightOriginal image by Glamour contributor Brigitt EarlyOriginal image by Glamour contributor Brigitt EarlyBest for All Skin Types: Charlotte Tilbury Glow TonerCourtesy of brandCharlotte Tilbury Glow Toner$55 Nordstrom$55 SephoraOriginal video by Glamour commerce writer Alanna Martine KilkearySuitable for all skin types, this acid-free hydrating toner is a favorite of Hadley King, MD, a board-certified dermatologist specializing in medical and cosmetic dermatology in NYC.', 'She loves that it’s “powered by exfoliating prickly pear, plus peptides to support skin cell turnover,” she says. “It also contains sodium hyaluronate, shea butter, and niacinamide,” which collectively help soften, soothe, and smooth the skin.This toner has withstood the test of time for Glamour’s Kilkeary, who has been reaching for it for over a year now. “The niacinamide helps blur my pores and gently sloughs off dead skin cells, which is much-needed for my often oily and combination skin complexion. I also love the peptides and hyaluronic acid in this pick because after application my skin looks taught and plump. I would highly recommend this to anyone looking to dip their toe into a dark spot corrector formula, without full commitment to a serum.”Key ingredient(s): Niacinamide, exfolactive (prickly pear extract)Skin types: Normal, dry, combination, oilySize: 5 fl.', 'oz.Pros: Acid-free; suitable for all skin typesCons: Can be dryingOriginal image by Glamour commerce writer Alanna Martine KilkearyOriginal image by Glamour commerce writer Alanna Martine KilkearyBest Moisturizer for Dark Spots: The Ordinary Azelaic Acid Suspension 10%Courtesy of brandThe Ordinary Azelaic Acid Suspension 10%$11 The Ordinary$11 SephoraOriginal video by Glamour commerce writer Alanna Martine KilkearyFinding products that are strong enough to work but actually safe to use during pregnancy can be a real challenge—luckily this dark spot corrector from The Ordinary can stay in your skin-care routine through every trimester. Its primary ingredient is azelaic acid—which can help even skin tone, reduce the appearance of blemishes, and offer antioxidant support.Glamour’s Kilkeary is also a huge fan of this product because of how unique it is. “The gel-cream formula gives it the feel of a cooling moisturizer, but the potent ingredients make it just as effective as a serum.', 'I like to use this as the second-to-last product in my skin-care routine, and it never fails to leave my skin looking extra bright. My other favorite part? It’s oil-free, which makes it suitable for those—like me!—with acne-prone skin.”Key ingredient(s): Azelaic acidSkin types: Normal, dry, combination, oilySize: 1 oz.Pros: Gentle enough for daily useCons: Can be dryingOriginal image by Glamour commerce writer Alanna Martine KilkearyOriginal image by Glamour commerce writer Alanna Martine KilkearyBest Serum for Dark Spots: Biossance Squalane + Vitamin C Dark Spot SerumCourtesy of brandBiossance Squalane + Vitamin C Dark Spot Serum$65 AmazonOriginal video by Glamour commerce writer Alanna Martine KilkearyGlamour’s Kilkeary has been using this dark spot corrector since its launch in 2021, and it’s probably the serum that she reaches for most among this list. “I first started using it after I went through a rough bout of pandemic-induced acne, which left me with a slew of dark spots.', 'After using it every day for about a month, I almost immediately saw improvement and clarity in the areas that frustrated me the most around my nose and chin. These formerly congested spots were often red and darker, harboring the ghost of my acne’s past, but this little serum slowly but surely brightened these areas with ease. I also noticed an improvement in my skin texture after using this for some time: It’s a lot smoother and less bumpy than it used to be. The consistency of this one is great as well because it absorbs super quickly, doesn’t leave behind any sticky residue, and most importantly, it’s fragrance-free and gentle.', 'If I had to shout from the rooftops about a holy grail skin-care product I couldn’t go on without, it’s probably this one.”Key ingredient(s): Squalane, vitamin C, white shiitakeSkin types: All skin typesSize: 1.01 oz.Pros: Lightweight; vegan and cruelty free; gentleCons: PriceyOriginal photo by Glamour commerce writer Alanna Martine KilkearyOriginal photo by Glamour commerce writer Alanna Martine KilkearyBest with Vitamin C: Glow Recipe Guava Vitamin C Face Serum Dark Spot CorrectorCourtesy of brandGlow Recipe Guava Vitamin C Face Serum Dark Spot Correcto$45 AmazonOriginal video by Glamour commerce writer Alanna Martine Kilkeary“Vitamin C is key for preventing skin damage and dark spot formation in the first place,” says Dr. Engelman, who recommends incorporating one into your morning skin-care routine. Kilkeary gave this serum a rigorous test over the course of a month and was very pleased with how it addressed and faded the dark spots.', '“This pick is chock-full of antioxidants, too, like guava, ferulic acid, and vitamin E, and always leaves my skin looking glowy and fresh after application.”Key ingredient(s): Tranexamic acid, ferulic acid, vitamin ESkin types: All skin types, including sensitiveSize: 1.01 oz.Pros: Exfoliates and brightens; evens out tone and textureCons: Has a smellOriginal photo by Glamour commerce writer Alanna Martine KilkearyOriginal photo by Glamour commerce writer Alanna Martine KilkearyBest for the Body: Eadem Milk Marvel Dark Spot SerumCourtesy of brandMilk Marvel Dark Spot Serum$68 EademThis lightweight product was specifically formulated to reduce hyperpigmentation for people with melanin-rich skin, featuring all-star ingredients like niacinamide, licorice root extract, and amber algae, among others. “Its gentle, milky texture is safe for sensitive skin and leaves a more balanced, even tone—a welcome pick for all complexions,” says facial aesthetician Ian Michael Crumm.', 'It’s also one that you can blend down onto the body, including the back and chest, to help fade dark spots in these areas.“I love that Eadem’s goal is to develop skin care for people of color. I’m Indian, prone to hyperpigmentation, and have a lot of scars left behind from the cystic acne from my teen years into my late 20s,” says Glamour contributor Neha Tandon. She appreciated that the milky texture actually hydrates her very dry skin. “In the month I tried it, I noticed my skin started to get a serious lit-from-within glow. I happened to get a little hormonal breakout while I was testing it out, and it almost completely erased the little pigmentation that the acne left behind on my cheeks,” she says.Key ingredient(s): Niacinamide, licorice root extract, amber algaeSkin types: All skin typesSize: 1.01 fl.', 'oz.Pros: Designed for women of color; lightweight formulaCons: May take time to see resultsOriginal image by Glamour contributor Neha TandonOriginal image by Glamour contributor Neha TandonBest Brightening: Herbivore Brightening Skincare Vitamin C + TurmericCourtesy of BrandHERBIVORE Brightening Skincare - Vitamin C + Turmeric$65 Sephora$65 AmazonHerbivore is one of our favorite natural beauty brands, and this dark-spot-correcting serum doesn’t disappoint. It’s formulated with a highly stable 15% THD vitamin C that targets hyperpigmentation, as well as turmeric, an antioxidant with known brightening properties, and arbutin, a natural ingredient that diminishes discoloration and tightens pores.“This serum has quickly become one of my favorite steps in my—admittedly minimal—morning routine,” says Glamour commerce editor Jake Henry Smith.', '“The scent is pleasant but not overpowering, while the creamy texture blends easily into my skin—I don’t have to fight to get the one or two pumps to absorb. I’ve started using this serum during post-shower gua sha because it helps the tool glide over my skin without being as greasy as a face oil, which can upset my acne-prone skin. By the end of the two-minute routine, the serum is completely rubbed in and I’m ready for sunscreen. I need to test the serum for a little longer to make a definitive call on its brightening properties; I’m also using a prescribed cream to clear up some dermatitis around my eyes. However, dark marks have seemed to be fading faster than usual over the past few weeks, and the skin around my eyes is clearer and lighter.', '(I don’t want to attribute this all to Nova, but it does seem to be working in tandem with my prescription, and it at least hasn’t made things worse.) Overall, I’d recommend this serum for people who are skeptical about vitamin C; my skin practically drinks it up.”Key ingredient(s): Vitamin C, turmeric, arbutinSkin types: All skin typesSize: 1 oz.Pros: Vegan and cruelty-free; clean formula; lightweight yet hydratingCons: Some users say it’s hard to get out of the bottleOriginal image by Glamour commerce editor Jake SmithOriginal image by Glamour commerce editor Jake SmithBest for Melanated Skin Tones: La Roche-Posay MelaB3 SerumCourtesy of brandLa Roche-Posay MelaB3 Serum$45 AmazonOriginal image by Glamour contributor Tanisha CherryDr. Mitchell is a massive fan of this serum because it combines niacinamide with other brightening agents. “This makes it gentle yet effective for reducing dark spots on all skin types, especially on melanated skin.', 'It also helps strengthen the skin barrier with soothing thermal water.”Glamour contributor Tanisha Cherry notes that this serum gave her major hydration and glow after testing it for about a week. “Winter really has my combination-oily skin feeling thirsty with a capital T. This Mela B3 serum delivered the perfect dose of hydration without clogging up the vibes—or the pores. With the 10% niacinamide, I was bracing for a little irritation, but surprisingly we’re good. I’ve been using it twice a day for a little over a week now, and while my dark spots haven’t budged yet my skin is definitely smoother and even has a bit of a glow. I’m guessing that’s more about the hydration than anything else. As for the dark spot action?', 'It feels like a ‘wait and see’ situation.”Key ingredient(s): Melasyl, niacinamide, thermal spring waterSkin types: Melanated skinSize: 1 oz.Pros: Noncomedogenic; lightweight; paraben-freeCons: PriceyOriginal image by Glamour contributor Tanisha CherryOriginal image by Glamour contributor Tanisha CherryBest for Acne Scars: Topicals Faded Serum for Dark Spots & DiscolorationCourtesy of brandTopicals Faded Serum for Dark Spots & Discoloration$38 Sephora$38 AmazonThis serum is designed to reduce discoloration, acne scars, and dark spots—for all skin shades. “I love this brand because it’s formulated specifically for melanated skin tones,” says Glamour contributor Andrea Navarro.', '“There aren’t many options out there for removing dark spots on darker skin tones, and this serum from Topicals works to fully fade them over time.” She also loves the lightweight cream consistency and the fact that it includes melatonin to keep her skin calm while the other mark-reducing ingredients (including tranexamic acid, niacinamide, and azelaic acid) do their thing. “For more stubborn spots, it can take over a month to see results, but it’s worth it,” she says.“After just 6 days of nightly use, I’ve noticed a difference in my stubborn areas of hyperpigmentation,” says Cherry, who also tested out this pick. “The serum has flattened the breakouts on my chin and started reducing the discoloration. I made sure to pair it with daily SPF. Although I don’t have sensitive skin, I’m happy to report that I didn’t experience any irritation from daily use. I’m excited to see even more progress in 3 weeks and will continue using it consistently.', 'So far, it’s living up to the hype!”Key ingredient(s): Tranexamic acid, niacinamide, azelaic acidSkin types: Normal, dry, combination, oilySize: 1.7 fl. oz.Pros: Formulated for melanated skin tones; calming formulaCons: Can take time to see resultsOriginal image by Glamour contributor Tanisha CherryOriginal image by Glamour contributor Tanisha CherryBest for Oily, Acne-Prone Skin: CeraVe Resurfacing Retinol SerumCourtesy of brandCeraVe Resurfacing Retinol Serum$22 $19 AmazonOriginal video by Glamour senior commerce editor Jenifer Calle“This serum is amazing because it not only fades dark spots, but it also contains ceramides to restore the skin’s barrier, making it suitable for sensitive skin,” says Dr. Mitchell. It’s also particularly effective on those with oily and acne-prone skin types thanks to pore-tightening ingredients like encapsulated retinol, niacinamide, and licorice root extract.“This is a great beginner-friendly retinol serum.', 'It was the first retinol product I ever used, and I’ve gone through two bottles now. It feels very lightweight and absorbs nicely on the skin. I’ve never had a bad reaction and I notice my skin feels a lot smoother and radiant after consistent use.', 'As always, make sure to follow the instructions so you don’t overuse it,” says Glamour senior commerce editor Jenifer Calle, who has combination skin.Key ingredient(s): Retinol, licorice root, niacinamide, ceramidesSkin types: Acne-prone skinSize: 1 ouncePros: Noncomedogenic; fragrance-free; affordableCons: It’s recommended to build up tolerance for everyday useOriginal image by Glamour senior commerce editor Jenifer CalleOriginal image by Glamour senior commerce editor Jenifer CalleBest Everyday Dark Spot Corrector: Vichy LiftActiv Vitamin C SerumCourtesy of brandVichy LiftActiv Vitamin C Serum For Face$35 AmazonOriginal image by Glamour contributor Tanisha Cherry“This formula combines 15% pure vitamin C with hyaluronic acid to deliver a brightening effect that’s both immediate and long-lasting. It’s hydrating yet lightweight, leaving skin looking fresh and firm without any greasiness.', 'Perfect for those who want visible improvements in tone and texture with minimal fuss,” says Crumm.This vitamin C serum is also a fave of Cherry, who swears that it gives her skin a long-lasting glow.', '“It’s non-greasy, absorbs fast, and layers seamlessly with my moisturizer and SPF, making it a staple in my skin-care routine that I go for nearly every day,” she says.Key ingredient(s): Vitamin C, hyaluronic acid, vitamin ESkin types: All skin typesSize: 0.67 oz.Pros: Affordable; alcohol- and fragrance-free; potentCons: Very stickyWritten by Glamour StaffTopicsshoppingskin careacne treatmentacne scarsdark spotsRead MoreShoppingThe Best Face Sunscreens, According to DermatologistsBy Brigitt EarleyBeauty27 Innovative Beauty Products That Are Changing the IndustryBy Petra GuglielmettiSkincare27 Luxury Skin Care Products That Are Actually Worth the SplurgeBy Marci RobinSkincare27 Drugstore & Affordable Skin Care Products as Good as the Expensive StuffBy Marci RobinBeautyThe 51 Best Beauty Products of 2024 According to Glamour ReadersBy Ariana Yaptangco MakeupThe 20 Best Drugstore & Affordable Makeup Steals of the YearBy Marci RobinShoppingThe Best New Beauty Products Glamour Editors Tried in OctoberBy Danielle SinayGift GuidesThe Best Beauty Gift Sets That Our Editors RecommendBy Alanna Martine KilkearyShoppingThe Supergoop!', 'Black Friday Sale Is Your Sign to Stock Up on Sunscreen ASAPBy Alanna Martine KilkearyMakeupThe 20 Best Luxury Makeup Products That Are Truly Worth Your MoneyBy GlamourMakeupThe Glossier Products We’re Obsessed With Are Finally on SaleBy Malia GriggsGift GuidesSelf-Care Gifts That Deliver Instant ZenBy Brigitt EarleyAuthentic, Accessible, RelevantFacebookXInstagramPinterestTiktokMore from GlamourAbout GlamourNewsletter SignupGlamour Media KitSee More Stories & GuidesFashionBeautyWellnessNews & CultureSex & RelationshipsGifts for WomenVibratorsLED Face MasksLeggingsSilk PillowcasesUser AgreementPrivacy PolicyYour California Privacy RightsRSS FeedsAccessibility HelpCondé Nast StoreContact Glamour© 2025 Condé Nast. All rights reserved. Glamour may earn a portion of sales from products that are purchased through our site as part of our Affiliate Partnerships with retailers.', 'The material on this site may not be reproduced, distributed, transmitted, cached or otherwise used, except with the prior written permission of Condé Nast. Ad ChoicesSelect international siteUnited StatesLargeChevronBrazilBulgariaGermanyHungaryMexicoPolandRomaniaSouth AfricaSpainUS']]\n",
      "Getting embeddings for text chunks 31 total chunks\n",
      "Getting embeddings for text chunks 14 total chunks\n",
      "Getting embeddings for text chunks 33 total chunks\n",
      "Error: No embedding returned for chunk 30 of result 0\n",
      "Error: No embedding returned for chunk 30 of result 2\n",
      "Error: No embedding returned for chunk 31 of result 2\n",
      "Error: No embedding returned for chunk 32 of result 2\n",
      "[{'title': '12 Best Dark Spot Correctors 2025, Tested and Reviewed | Glamour', 'url': 'https://www.glamour.com/gallery/best-dark-spot-corrector', 'chunk': 'To find the best options for all skin types and concerns, we spoke with dermatologists and then tested dozens of products ourselves, including Glamour Beauty Award–reader’s choice picks. As a beauty writer who’s struggled with breakouts and blemishes for nearly a decade, I’ve tested brightening moisturizers, retinol serums, acne creams—you name it. One of my favorite products is SkinCeutical Discoloration Defense because it effectively fades away dark spots. After consistently using it, my skin looked clearer and brighter.'}, {'title': '12 Best Dark Spot Correctors 2025, Tested and Reviewed | Glamour', 'url': 'https://www.glamour.com/gallery/best-dark-spot-corrector', 'chunk': 'I have a few small dark spots on my cheek, and while I haven’t yet seen significant improvement there, I do appreciate the instant brightening effect the product gives my skin. It adds the perfect light sheen for a glowy, low-maintenance makeup look.\"Key ingredient(s): Glycolic acid, vitamin C, pro-retinolSkin types: Dry skin, sensitive skinSize: 1 fl. oz.Pros: Contains SPF, gentle formulaCons: Skin may be more sensitive to sunlightOriginal image by Glamour contributor Brigitt EarlyOriginal image by Glamour contributor Brigitt EarlyBest for All Skin Types: Charlotte Tilbury Glow TonerCourtesy of brandCharlotte Tilbury Glow Toner$55 Nordstrom$55 SephoraOriginal video by Glamour commerce writer Alanna Martine KilkearySuitable for all skin types, this acid-free hydrating toner is a favorite of Hadley King, MD, a board-certified dermatologist specializing in medical and cosmetic dermatology in NYC.'}, {'title': '12 Best Dark Spot Correctors 2025, Tested and Reviewed | Glamour', 'url': 'https://www.glamour.com/gallery/best-dark-spot-corrector', 'chunk': 'If I had to shout from the rooftops about a holy grail skin-care product I couldn’t go on without, it’s probably this one.”Key ingredient(s): Squalane, vitamin C, white shiitakeSkin types: All skin typesSize: 1.01 oz.Pros: Lightweight; vegan and cruelty free; gentleCons: PriceyOriginal photo by Glamour commerce writer Alanna Martine KilkearyOriginal photo by Glamour commerce writer Alanna Martine KilkearyBest with Vitamin C: Glow Recipe Guava Vitamin C Face Serum Dark Spot CorrectorCourtesy of brandGlow Recipe Guava Vitamin C Face Serum Dark Spot Correcto$45 AmazonOriginal video by Glamour commerce writer Alanna Martine Kilkeary“Vitamin C is key for preventing skin damage and dark spot formation in the first place,” says Dr. Engelman, who recommends incorporating one into your morning skin-care routine. Kilkeary gave this serum a rigorous test over the course of a month and was very pleased with how it addressed and faded the dark spots.'}, {'title': 'How to Get Rid of Dark Spots on Face, According to Dermatologists ...', 'url': 'https://www.vogue.com/article/dark-spot-removal-retin-a-intense-pulsed-light-lasers-and-more', 'chunk': 'Take your pick of SkinCeuticals’s Retinol 0.3, SkinMedica’s Retinol Complex .25, or CeraVe’s Skin Renewing serum to experience the restorative benefits of the oft-recommended ingredient.CurologyFuture-Proof Rx$60 CUROLOGYThis prescription-strength product is customized just for you—so your skin will be getting exactly what it needs.\\nSkinMedicaAge Defense Retinol Complex .25$64 DERMSTOREThe formula’s retinol is paired with the brand’s trademark PhytoShield Complex to help curb irritation while also enhancing skin texture.\\nSkinCeuticalsRetinol 0.3$78 SKINCEUTICALSIf you’re new to retinoids, this may be the product for you.'}, {'title': '12 Best Dark Spot Correctors 2025, Tested and Reviewed | Glamour', 'url': 'https://www.glamour.com/gallery/best-dark-spot-corrector', 'chunk': \"oz.Pros: Pregnancy-safeCons: PriceyOriginal image by Glamour commerce writer Alanna Martine KilkearyOriginal image by Glamour commerce writer Alanna Martine KilkearyBest for Mature Skin: L’Oréal Paris Revitalift Bright Reveal Brightening Day Moisturizer SPF 30Courtesy of brandL'Oreal Paris Revitalift Bright Reveal Brightening Day Moisturizer SPF 30$20 $15 Amazon$20 WalmartOriginal video by Glamour contributor Brigitt EarlyLooking for moisturizer, SPF, and dark spot treatment all in one? Look no further than L’Oréal Paris Revitalift. This brightening product also contains vitamin C, retinol, and glycolic acid—all at a drugstore price. “I generally say not to use retinol and glycolic on the same day, but this formulation is gentle while still being effective,” says Dr. Castilla.“I love the silky, smooth texture of this moisturizer,” says Glamour contributor Brigitt Earley. “It spreads readily and evenly—two pumps was the perfect amount for my face and neck.\"}]\n"
     ]
    }
   ],
   "source": [
    "await fetch_and_process_data(\"what are the best skincare products for dark spots?\")\n",
    "embedding = query_embeddings(\"skincare product\")\n",
    "results = query_vector_store(embedding, k=5)\n",
    "print(results)"
   ]
  },
  {
   "cell_type": "markdown",
   "metadata": {},
   "source": [
    "## using the context to make a reccomendation"
   ]
  },
  {
   "cell_type": "code",
   "execution_count": 15,
   "metadata": {},
   "outputs": [
    {
     "name": "stdout",
     "output_type": "stream",
     "text": [
      "{\"names\":[\"SkinCeutical Discoloration Defense\",\"Glow Recipe Guava Vitamin C Face Serum Dark Spot Corrector\",\"L'Oréal Paris Revitalift Bright Reveal Brightening Day Moisturizer SPF 30\"]}\n"
     ]
    }
   ],
   "source": [
    "\n",
    "from pydantic import BaseModel\n",
    "import json\n",
    "\n",
    "context = \"\"\n",
    "for elem in results:\n",
    "    context += elem[\"chunk\"] + \"\\n\"\n",
    "\n",
    "system_prompt = f\"\"\"\n",
    "You are a skincare expert that reccomends products for specific skin conditions.\n",
    "You are given context about products that may be beneficial for the user.\n",
    "Provide 1-3 different products that you would believe would be beneficial for the user. Only provide the product names.\n",
    "\n",
    "Here is the context:\n",
    "{context}\n",
    "\"\"\"\n",
    "\n",
    "user_prompt = \"What are the best skincare products for dark spots?\"\n",
    "\n",
    "# Define the messages\n",
    "messages = [\n",
    "    {\"role\": \"system\", \"content\": system_prompt},\n",
    "    {\"role\": \"user\", \"content\": user_prompt}\n",
    "]\n",
    "\n",
    "class Product (BaseModel):\n",
    "    names: list[str]\n",
    "\n",
    "# Call the OpenAI chat completion\n",
    "response = client.beta.chat.completions.parse(\n",
    "    model=\"gpt-4o\",\n",
    "    messages=messages,\n",
    "    response_format=Product\n",
    ")\n",
    "\n",
    "# Print the response\n",
    "print(response.choices[0].message.content)"
   ]
  },
  {
   "cell_type": "code",
   "execution_count": 16,
   "metadata": {},
   "outputs": [
    {
     "name": "stdout",
     "output_type": "stream",
     "text": [
      "{'names': ['SkinCeutical Discoloration Defense', 'Glow Recipe Guava Vitamin C Face Serum Dark Spot Corrector', \"L'Oréal Paris Revitalift Bright Reveal Brightening Day Moisturizer SPF 30\"]}\n",
      "['SkinCeutical Discoloration Defense', 'Glow Recipe Guava Vitamin C Face Serum Dark Spot Corrector', \"L'Oréal Paris Revitalift Bright Reveal Brightening Day Moisturizer SPF 30\"]\n"
     ]
    }
   ],
   "source": [
    "parsed_results = json.loads(response.choices[0].message.content)\n",
    "print(parsed_results)\n",
    "print(parsed_results[\"names\"])"
   ]
  },
  {
   "cell_type": "markdown",
   "metadata": {},
   "source": [
    "# using gemini for long context window"
   ]
  },
  {
   "cell_type": "code",
   "execution_count": 8,
   "metadata": {},
   "outputs": [
    {
     "name": "stdout",
     "output_type": "stream",
     "text": [
      "Searching for: What are good skincare products to treat whitehead?\n",
      "adding item Whiteheads: What They Are, Causes, Treatment & Prevention\n",
      "adding item How To Get Rid Of Whiteheads, According To Dermatologists\n",
      "adding item How to Get Rid of Whiteheads: 12 Treatments, Products, Causes 2023\n",
      "[\"CeraVe Acne Foaming Cream Cleanser\", \"Rosen Break-Out Spot Treatment\", \"Glow Recipe Watermelon Glow PHA + BHA Pore-Tight Toner\"]\n",
      "CeraVe Acne Foaming Cream Cleanser\n"
     ]
    }
   ],
   "source": [
    "import aiohttp\n",
    "import asyncio\n",
    "import nest_asyncio\n",
    "from bs4 import BeautifulSoup\n",
    "from concurrent.futures import ThreadPoolExecutor\n",
    "import requests\n",
    "from google import genai\n",
    "from dotenv import load_dotenv\n",
    "import os\n",
    "import json\n",
    "\n",
    "load_dotenv()  # load environment variables from .env file\n",
    "OPENAI_API_KEY = os.getenv(\"OPENAI_API_KEY\")\n",
    "GOOGLE_API_KEY = os.getenv(\"GOOGLE_API_KEY\")\n",
    "GEMINI_API_KEY = os.getenv(\"GEMINI_API_KEY\")\n",
    "\n",
    "total_results_to_fetch = 3  # total number of results to fetch\n",
    "\n",
    "# Apply the nest_asyncio patch\n",
    "nest_asyncio.apply()\n",
    "\n",
    "headers = {\n",
    "    \"User-Agent\": \"Mozilla/5.0 (Windows NT 6.1; Win64; x64) AppleWebKit/537.36 (KHTML, like Gecko) Chrome/108.0.0.0 Safari/537.36\"\n",
    "}\n",
    "\n",
    "client = genai.Client(api_key=GEMINI_API_KEY)\n",
    "\n",
    "async def fetch(session, url, params=None):\n",
    "    async with session.get(url, params=params, headers=headers, timeout=30) as response:\n",
    "        return await response.text()\n",
    "\n",
    "async def google_search(query, results, num_results=total_results_to_fetch):\n",
    "    \"\"\"\n",
    "    Perform a Google search and append the results to the provided list.\n",
    "\n",
    "    :param query: The search query.\n",
    "    :param api_key: Your Google API key.\n",
    "    :param cse_id: Your Custom Search Engine ID.\n",
    "    :param results: The list to append the results to.\n",
    "    :param num_results: The number of results to fetch.\n",
    "    \"\"\"\n",
    "    print(\"Searching for:\", query)\n",
    "    search_url = \"https://www.googleapis.com/customsearch/v1\"\n",
    "    params = {\n",
    "        'q': query,\n",
    "        'key': GOOGLE_API_KEY,\n",
    "        'cx': \"a2991ece49c8941ec\",\n",
    "        'num': num_results\n",
    "    }\n",
    "    response = requests.get(search_url, params=params)\n",
    "    search_results = response.json()\n",
    "\n",
    "    for item in search_results.get('items', []):\n",
    "        print(\"adding item\", item['title'])\n",
    "        results.append({\n",
    "            'title': item['title'],\n",
    "            'links': item['link']\n",
    "        })\n",
    "\n",
    "def get_all_text_from_url(url):\n",
    "    response = requests.get(url, headers=headers, timeout=30)\n",
    "    soup = BeautifulSoup(response.text, 'html.parser')\n",
    "    for script in soup([\"script\", \"style\"]):\n",
    "        script.extract()\n",
    "    text = soup.get_text()\n",
    "    lines = (line.strip() for line in text.splitlines())\n",
    "    chunks = (phrase.strip() for line in lines for phrase in line.split(\"  \"))\n",
    "    text = '\\n'.join(chunk for chunk in chunks if chunk)\n",
    "    return text\n",
    "\n",
    "async def fetch_and_process_data(skincare_problem):\n",
    "    \n",
    "    search_query = f\"What are good skincare products to treat {skincare_problem}?\"\n",
    "    product_query = f\"The user has {skincare_problem}\"\n",
    "    \n",
    "    async with aiohttp.ClientSession() as session:\n",
    "        page_num = 0\n",
    "        results = []\n",
    "        while len(results) < total_results_to_fetch:\n",
    "            page_num += 1\n",
    "            await google_search(search_query, results)\n",
    "\n",
    "        urls = [result['links'] for result in results]\n",
    "\n",
    "        with ThreadPoolExecutor(max_workers=10) as executor:\n",
    "            loop = asyncio.get_event_loop()\n",
    "            texts = await asyncio.gather(\n",
    "                *[loop.run_in_executor(executor, get_all_text_from_url, url) for url in urls]\n",
    "            )\n",
    "            \n",
    "    # prompt gemini to get the correct products\n",
    "            \n",
    "    system_prompt = f\"\"\"\n",
    "    You are a skincare expert that reccomends products for specific skin conditions.\n",
    "    You are given context about products that may be beneficial for the user.\n",
    "    Given a description of a user's skin condition, provide 1-3 different products that you would believe would be beneficial for the user. Only provide the product names.\n",
    "    Here is the context:\n",
    "    {texts}\n",
    "    \"\"\"\n",
    "    \n",
    "    response = client.models.generate_content(\n",
    "        model=\"gemini-1.5-pro\", \n",
    "        config={\"system_instruction\":system_prompt,\n",
    "                \"response_schema\": list[str],\n",
    "                \"response_mime_type\": \"application/json\"}, \n",
    "        contents= [product_query]\n",
    "    )\n",
    "    print(response.text)\n",
    "    parsed_results = json.loads(response.text)\n",
    "    print(parsed_results[0])\n",
    "        \n",
    "        # insert openai call to process text information here\n",
    "\n",
    "await fetch_and_process_data(\"whitehead\")"
   ]
  },
  {
   "cell_type": "markdown",
   "metadata": {},
   "source": [
    "# IGNORE EVERYTHING BELOW IT IS IRRELEVANT"
   ]
  },
  {
   "cell_type": "markdown",
   "metadata": {},
   "source": [
    "## tools definition"
   ]
  },
  {
   "cell_type": "code",
   "execution_count": 9,
   "metadata": {},
   "outputs": [
    {
     "name": "stdout",
     "output_type": "stream",
     "text": [
      "Fetching page: 1\n",
      "Fetching page: 2\n",
      "[{'title': \"Microsoft partners with France's Mistral AI, an OpenAI rival\", 'url': 'https://apnews.com/article/mistral-ai-lechat-microsoft-openai-cbd6f5604fa577a0d1e7f9047708b718', 'chunk': 'Mistral has also previously said it is teaming up with other big cloud providers including Amazon and Google.\\nRELATED COVERAGE\\nUS antitrust enforcers will investigate leading AI companies Microsoft, Nvidia and OpenAI\\nAI ‘gold rush’ for chatbot training data could run out of human-written text\\nFormer OpenAI employees lead push to protect whistleblowers flagging artificial intelligence risks\\nMistral made a big splash by attracting big amounts of investor funding to give it a multibillion-dollar valuation just months after it was founded last spring. It was started by three French former researchers from Google and Meta: CEO Arthur Mensch, Chief Scientist Guillaume Lample and Chief Technology Officer Timothee Lacroix.\\nIt has advertised an “open-source” approach to developing AI that involves publicly releasing key components of some AI systems, in contrast to companies such as OpenAI that closely guard them.'}, {'title': 'How Mistral AI, an OpenAI competitor, rocketed to $2Bn in ...', 'url': 'https://www.bensbites.com/case-study/how-mistral-ai-an-openai-competitor-rocketed-to-2bn-in-12-months', 'chunk': 'Something went wrong while submitting the form.PricingLog inSign upCase studies\\nHow Mistral AI, an OpenAI competitor, rocketed to $2Bn in <12 monthsHow Mistral AI, an OpenAI competitor, rocketed to $2Bn in <12 monthsSaveSavedToday Iâ\\x80\\x99m diving deep into Mistral AI, who are making headlines after recently closing their (huge) Series A round. Launched just 7 months ago, theyâ\\x80\\x99re disrupting the LLM market. I want to look at how theyâ\\x80\\x99re doing it - and how you can take advantage.This post covers:What is Mistral?Whoâ\\x80\\x99s behind it?The timeline: Whatâ\\x80\\x99s happened to dateFundraisingProduct OverviewA peek inside their seed deck ð\\x9f\\x91\\x80 Roadmap analysis. Are they achieving what they set out to do?5 big reasons Mistralâ\\x80\\x99s making waves ð\\x9f\\x8c\\x8aHow people actually use MistralOpportunities and how you can take advantageWhat developers think of MistralWhat is Mistral?A French startup that develops fast, open-source and secure language models.'}, {'title': 'How Mistral AI, an OpenAI competitor, rocketed to $2Bn in ...', 'url': 'https://www.bensbites.com/case-study/how-mistral-ai-an-openai-competitor-rocketed-to-2bn-in-12-months', 'chunk': 'As Mistral has been true to the promise of releasing open models, the community (and other companies) have taken Mistralâ\\x80\\x99s models and created better models on top of them. For example, OpenHermes 2.5 by Teknium and Neural Chat 7B by Intel.With AI models, open source takes many forms: from available to use locally but no details about the model (weights, architecture etc.) to models that are fully open source and allow users to train on the outputs.While Mistralâ\\x80\\x99s models were open-weights from the start, Mistralâ\\x80\\x99s latest announcement had a line in their Terms of Service Terms of Service which was spotted by Far El on Twitter, said:Basically, you canâ\\x80\\x99t use it to train or improve other models or compete against themâ\\x80¦It wasnâ\\x80\\x99t clear whether this was just for the API platform or the model itself. And unfortunately, open-source means you should be able to use this tech how you like, thatâ\\x80\\x99s kind of the point.'}, {'title': 'How Mistral AI, an OpenAI competitor, rocketed to $2Bn in ...', 'url': 'https://www.bensbites.com/case-study/how-mistral-ai-an-openai-competitor-rocketed-to-2bn-in-12-months', 'chunk': 'Founded in 2023 by Arthur Mensch, Guillaume Lample, and TimothÃ©e Lacroix.Theyâ\\x80\\x99ve raised over $650M in funding, are valued at $2Bn, are less than a year old and have 22 employees.monthly search volume for â\\x80\\x98mistral aiâ\\x80\\x99The company is important for a few reasons;Itâ\\x80\\x99s actually open-source, you know like OpenAI was supposed to be? Or how LlaMA by Meta kinda is but isnâ\\x80\\x99t?Itâ\\x80\\x99s developed 2 AI models in less than a year.Itâ\\x80\\x99s French.The founders are 3 researchers from DeepMind and Meta who aimed to beat GPT 3.5 by year-end.'}, {'title': 'How Mistral AI, an OpenAI competitor, rocketed to $2Bn in ...', 'url': 'https://www.bensbites.com/case-study/how-mistral-ai-an-openai-competitor-rocketed-to-2bn-in-12-months', 'chunk': 'The big debate.Mistral believes (as do many others, myself included) that there are several concerns with closed AI approaches; businesses have to send sensitive data to it, only exposing the outputs doesnâ\\x80\\x99t help connect with other components (retrieval, structure inputs etc) and the data used to train the models are secret (so we assume it can do some things it perhaps hasnâ\\x80\\x99t been trained on).Now the bold stuff.â\\x80\\x9cMistral will offer the best technology in 4 yearsâ\\x80\\x9d.How?Theyâ\\x80\\x99ll take a more open approach to model development.Tighter integration with customersâ\\x80\\x99 workflows.Increase focus on data sources and control.Propose unmatched guarantees on security and privacy.Thereâ\\x80\\x99s a lot more detail in their deck on the above 4 points.As far as business focus goesâ\\x80¦â\\x80\\x9cOn the business side, we will provide the most valuable technology brick to the emerging AI-as-a-service industry that will revolutionise business workflows with generative AI.'}]\n"
     ]
    }
   ],
   "source": [
    "\n",
    "nest_asyncio.apply()\n",
    "\n",
    "tools = [\n",
    "    {\n",
    "        \"type\": \"function\",\n",
    "        \"function\": {\n",
    "            \"name\": \"openai_web_search\",\n",
    "            \"description\": \"Fetch and process data from Google search based on a query, store results in FAISS vector store, and retrieve results.\",\n",
    "            \"parameters\": {\n",
    "                \"type\": \"object\",\n",
    "                \"properties\": {\n",
    "                    \"search_query\": {\n",
    "                        \"type\": \"string\",\n",
    "                        \"description\": \"The search query to use for fetching data from Google search.\"\n",
    "                    }\n",
    "                },\n",
    "                \"required\": [\"search_query\"]\n",
    "            },\n",
    "        },\n",
    "    },\n",
    "]\n",
    "\n",
    "\n",
    "\n",
    "\n",
    "def mistral_web_search(search_query: str):\n",
    "    async def run_search():\n",
    "        await fetch_and_process_data(search_query)\n",
    "        embeddings = query_embeddings(search_query)\n",
    "        results_ = query_vector_store(embeddings[0], k=5)\n",
    "        return results_\n",
    "\n",
    "    return asyncio.run(run_search())\n",
    "\n",
    "search_query = \"mistral and openai\"\n",
    "results = mistral_web_search(search_query)\n",
    "print(results)\n",
    "\n"
   ]
  },
  {
   "cell_type": "code",
   "execution_count": 10,
   "metadata": {},
   "outputs": [
    {
     "name": "stdout",
     "output_type": "stream",
     "text": [
      "Fetching page: 1\n",
      "Fetching page: 2\n"
     ]
    },
    {
     "data": {
      "text/plain": [
       "'Mistral has also previously said it is teaming up with other big cloud providers including Amazon and Google.\\nRELATED COVERAGE\\nUS antitrust enforcers will investigate leading AI companies Microsoft, Nvidia and OpenAI\\nAI ‘gold rush’ for chatbot training data could run out of human-written text\\nFormer OpenAI employees lead push to protect whistleblowers flagging artificial intelligence risks\\nMistral made a big splash by attracting big amounts of investor funding to give it a multibillion-dollar valuation just months after it was founded last spring. It was started by three French former researchers from Google and Meta: CEO Arthur Mensch, Chief Scientist Guillaume Lample and Chief Technology Officer Timothee Lacroix.\\nIt has advertised an “open-source” approach to developing AI that involves publicly releasing key components of some AI systems, in contrast to companies such as OpenAI that closely guard them.\\nSomething went wrong while submitting the form.PricingLog inSign upCase studies\\nHow Mistral AI, an OpenAI competitor, rocketed to $2Bn in <12 monthsHow Mistral AI, an OpenAI competitor, rocketed to $2Bn in <12 monthsSaveSavedToday Iâ\\x80\\x99m diving deep into Mistral AI, who are making headlines after recently closing their (huge) Series A round. Launched just 7 months ago, theyâ\\x80\\x99re disrupting the LLM market. I want to look at how theyâ\\x80\\x99re doing it - and how you can take advantage.This post covers:What is Mistral?Whoâ\\x80\\x99s behind it?The timeline: Whatâ\\x80\\x99s happened to dateFundraisingProduct OverviewA peek inside their seed deck ð\\x9f\\x91\\x80 Roadmap analysis. Are they achieving what they set out to do?5 big reasons Mistralâ\\x80\\x99s making waves ð\\x9f\\x8c\\x8aHow people actually use MistralOpportunities and how you can take advantageWhat developers think of MistralWhat is Mistral?A French startup that develops fast, open-source and secure language models.\\nAs Mistral has been true to the promise of releasing open models, the community (and other companies) have taken Mistralâ\\x80\\x99s models and created better models on top of them. For example, OpenHermes 2.5 by Teknium and Neural Chat 7B by Intel.With AI models, open source takes many forms: from available to use locally but no details about the model (weights, architecture etc.) to models that are fully open source and allow users to train on the outputs.While Mistralâ\\x80\\x99s models were open-weights from the start, Mistralâ\\x80\\x99s latest announcement had a line in their Terms of Service Terms of Service which was spotted by Far El on Twitter, said:Basically, you canâ\\x80\\x99t use it to train or improve other models or compete against themâ\\x80¦It wasnâ\\x80\\x99t clear whether this was just for the API platform or the model itself. And unfortunately, open-source means you should be able to use this tech how you like, thatâ\\x80\\x99s kind of the point.\\nFounded in 2023 by Arthur Mensch, Guillaume Lample, and TimothÃ©e Lacroix.Theyâ\\x80\\x99ve raised over $650M in funding, are valued at $2Bn, are less than a year old and have 22 employees.monthly search volume for â\\x80\\x98mistral aiâ\\x80\\x99The company is important for a few reasons;Itâ\\x80\\x99s actually open-source, you know like OpenAI was supposed to be? Or how LlaMA by Meta kinda is but isnâ\\x80\\x99t?Itâ\\x80\\x99s developed 2 AI models in less than a year.Itâ\\x80\\x99s French.The founders are 3 researchers from DeepMind and Meta who aimed to beat GPT 3.5 by year-end.\\nThe big debate.Mistral believes (as do many others, myself included) that there are several concerns with closed AI approaches; businesses have to send sensitive data to it, only exposing the outputs doesnâ\\x80\\x99t help connect with other components (retrieval, structure inputs etc) and the data used to train the models are secret (so we assume it can do some things it perhaps hasnâ\\x80\\x99t been trained on).Now the bold stuff.â\\x80\\x9cMistral will offer the best technology in 4 yearsâ\\x80\\x9d.How?Theyâ\\x80\\x99ll take a more open approach to model development.Tighter integration with customersâ\\x80\\x99 workflows.Increase focus on data sources and control.Propose unmatched guarantees on security and privacy.Thereâ\\x80\\x99s a lot more detail in their deck on the above 4 points.As far as business focus goesâ\\x80¦â\\x80\\x9cOn the business side, we will provide the most valuable technology brick to the emerging AI-as-a-service industry that will revolutionise business workflows with generative AI.'"
      ]
     },
     "execution_count": 10,
     "metadata": {},
     "output_type": "execute_result"
    }
   ],
   "source": [
    "\"\"\" little helper function to extract only the texts \"\"\"\n",
    "def tools_to_str(tools_output: list) -> str:\n",
    "    return '\\n'.join([tool['chunk'] for tool in tools_output])\n",
    "\n",
    "\n",
    "tools_to_str(mistral_web_search(search_query))"
   ]
  },
  {
   "cell_type": "code",
   "execution_count": 11,
   "metadata": {},
   "outputs": [],
   "source": [
    "import functools\n",
    "\n",
    "names_to_functions = {\n",
    "    'mistral_web_search': functools.partial(mistral_web_search),\n",
    "}"
   ]
  },
  {
   "cell_type": "markdown",
   "metadata": {},
   "source": [
    "## chat"
   ]
  },
  {
   "cell_type": "code",
   "execution_count": 12,
   "metadata": {},
   "outputs": [],
   "source": [
    "messages = [\n",
    "    ChatMessage(role=\"user\", content=\"What happend during apple WWDC 2024?\"),\n",
    "]\n",
    "\n"
   ]
  },
  {
   "cell_type": "code",
   "execution_count": 13,
   "metadata": {},
   "outputs": [
    {
     "data": {
      "text/plain": [
       "ChatCompletionResponse(id='ed2e245edaf04b3e96fea1a914e9e97f', object='chat.completion', created=1718097895, model='mistral-large-latest', choices=[ChatCompletionResponseChoice(index=0, message=ChatMessage(role='assistant', content='', name=None, tool_calls=[ToolCall(id='wq5uJdILV', type=<ToolType.function: 'function'>, function=FunctionCall(name='mistral_web_search', arguments='{\"search_query\": \"apple WWDC 2024\"}'))], tool_call_id=None), finish_reason=<FinishReason.tool_calls: 'tool_calls'>)], usage=UsageInfo(prompt_tokens=121, total_tokens=156, completion_tokens=35))"
      ]
     },
     "execution_count": 13,
     "metadata": {},
     "output_type": "execute_result"
    }
   ],
   "source": [
    "model = \"mistral-large-latest\"\n",
    "\n",
    "client = MistralClient(api_key=MISTRAL_API_KEY)\n",
    "response = client.chat(model=model, messages=messages, tools=tools, tool_choice=\"any\")\n",
    "response"
   ]
  },
  {
   "cell_type": "code",
   "execution_count": 14,
   "metadata": {},
   "outputs": [],
   "source": [
    "messages.append(response.choices[0].message)"
   ]
  },
  {
   "cell_type": "code",
   "execution_count": 15,
   "metadata": {},
   "outputs": [
    {
     "name": "stdout",
     "output_type": "stream",
     "text": [
      "\n",
      "function_name:  mistral_web_search \n",
      "function_params:  {'search_query': 'apple WWDC 2024'}\n"
     ]
    }
   ],
   "source": [
    "import json\n",
    "\n",
    "tool_call = response.choices[0].message.tool_calls[0]\n",
    "function_name = tool_call.function.name\n",
    "function_params = json.loads(tool_call.function.arguments)\n",
    "\n",
    "\n",
    "print(\"\\nfunction_name: \", function_name, \"\\nfunction_params: \", function_params)"
   ]
  },
  {
   "cell_type": "code",
   "execution_count": 16,
   "metadata": {},
   "outputs": [
    {
     "name": "stdout",
     "output_type": "stream",
     "text": [
      "Fetching page: 1\n",
      "Fetching page: 2\n"
     ]
    },
    {
     "data": {
      "text/plain": [
       "\"Apple WWDC 2024: the 13 biggest announcements - The VergeSkip to main contentThe VergeThe Verge logo.The Verge homepageThe Verge homepageThe VergeThe Verge logo./Tech/Reviews/Science/Entertainment/AI/MoreMenuExpandThe VergeThe Verge logo.MenuExpandWWDC 2024/Apple/TechApple WWDC 2024: the 13 biggest announcementsApple WWDC 2024: the 13 biggest announcements / Apple’s WWDC keynote had a lot to do with AI.By\\nEmma Roth, a news writer who covers the streaming wars, consumer tech, crypto, social media, and much more. Previously, she was a writer and editor at MUO.\\nJun 10, 2024, 6:57 PM UTCShare this storyApple’s Worldwide Developers Conference keynote has come to a close — and the company had a whole lot to share.\\nFifty Distinguished Winners, who are recognised for outstanding submissions, will be invited to Cupertino for a three-day experience.\\nApple will share additional conference information in advance of WWDC24 through the Apple Developer app and website.\\nShare article\\nMedia\\nText of this article\\n26 March 2024\\nPRESS RELEASE\\nApple’s Worldwide Developers Conference returns June 10, 2024\\nEntire conference available online for all developers, with a special event at Apple Park on June 10\\nCUPERTINO, CALIFORNIA Apple today announced it will host its annual Worldwide Developers Conference (WWDC) online from June 10 through 14, 2024. Developers and students will have the opportunity to celebrate in person at a special event at Apple Park on opening day.\\nFree for all developers, WWDC24 will spotlight the latest iOS, iPadOS, macOS, watchOS, tvOS, and visionOS advancements.\\niPadOS could finally get new apps like a native calculator, and some rumored new Apple Pencil 3 features.\\xa0We expect macOS to offer AI features, with native apps that lean on smart tools and generative AI: assisted writing in Pages, a slide deck maker in Keynote, coding in Xcode, all powered by AI.\\xa0When it comes to the Vision Pro and visionOS, we haven't heard much, so we're expecting a nod to spatial computing, but nothing huge coming yet. For wearables, we're not expecting big watchOS changes with watchOS 11, either.Watch WWDC 2024 live with usWWDC 2024 as it happens\\nRefresh\\n2024-06-10T16:26:28.008Z\\nGood morning, good afternoon and good evening, wherever you are in the world – and welcome to TechRadar's live coverage of WWDC 2024.\\n2024-06-10T16:45:58.710Z\\n(Image credit: Jacob Krol / Future)Apple's WWDC 2024 keynote is minutes away, with rumors swirling about \\xa0announcements focusing on artificial intelligence and Siri, Apple's languishing voice assistant.\\nThis year’s conference will include video sessions and opportunities to engage with Apple designers and engineers and connect with the worldwide developer community.\\nWWDC24 will include an in-person experience on June 10 that will provide developers the opportunity to watch the keynote at Apple Park, meet with Apple team members, and take part in special activities. Space will be limited, and details on how to apply to attend can be found on the Apple Developer site and app.\\nApple is proud to support the next generation of developers through the Swift Student Challenge, one of many Apple programs that seek to uplift the next generation of developers, creators, and entrepreneurs. On March 28, this year’s applicants will be notified of their status, and winners will be eligible to apply for the in-person experience at Apple Park. Fifty Distinguished Winners, who are recognised for outstanding submissions, will be invited to Cupertino for a three-day experience.\\nThis year’s conference will include video sessions and opportunities to engage with Apple designers and engineers and connect with the worldwide developer community.\\nWWDC24 will include an in-person experience on June 10 that will provide developers the opportunity to watch the keynote at Apple Park, meet with Apple team members, and take part in special activities. Space will be limited, and details on how to apply to attend can be found on the Apple Developer site and app.\\nApple is proud to support the next generation of developers through the Swift Student Challenge, one of many Apple programs that seek to uplift the next generation of developers, creators, and entrepreneurs. On March 28, this year’s applicants will be notified of their status, and winners will be eligible to apply for the in-person experience at Apple Park.\""
      ]
     },
     "execution_count": 16,
     "metadata": {},
     "output_type": "execute_result"
    }
   ],
   "source": [
    "function_result = tools_to_str(names_to_functions[function_name](**function_params))\n",
    "function_result"
   ]
  },
  {
   "cell_type": "code",
   "execution_count": 17,
   "metadata": {},
   "outputs": [
    {
     "data": {
      "text/plain": [
       "\"Apple's Worldwide Developers Conference (WWDC) took place on June 10, 2024. The keynote focused mainly on artificial intelligence, with several announcements made. Unfortunately, I don't have real-time information, so I can't provide the specific details of the 13 biggest announcements mentioned in the article from The Verge.\\n\\nHowever, some general expectations before the event included the possibility of new apps for iPadOS such as a native calculator and new features for Apple Pencil 3. For macOS, it was anticipated that there would be AI features and smart tools integrated into native apps like Pages, Keynote, and Xcode.\\n\\nThe event also included video sessions and opportunities for developers to engage with Apple designers and engineers. There was an in-person experience at Apple Park for selected developers to watch the keynote, meet with Apple team members, and participate in special activities. Apple also continued its tradition of supporting the next generation of developers through the Swift Student Challenge.\""
      ]
     },
     "execution_count": 17,
     "metadata": {},
     "output_type": "execute_result"
    }
   ],
   "source": [
    "messages.append(ChatMessage(role=\"tool\", name=function_name, content=function_result, tool_call_id=tool_call.id))\n",
    "\n",
    "response = client.chat(model=model, messages=messages)\n",
    "response.choices[0].message.content\n",
    "\n"
   ]
  },
  {
   "cell_type": "markdown",
   "metadata": {},
   "source": [
    "## Chat in a chain (cleaner user experience)"
   ]
  },
  {
   "cell_type": "code",
   "execution_count": null,
   "metadata": {},
   "outputs": [],
   "source": [
    "messages = []\n",
    "\n",
    "while True:\n",
    "    input_ = input(\"Ask: \")\n",
    "    messages.append(ChatMessage(role=\"user\", content=input_))\n",
    "    response = client.chat(model=model, messages=messages, tools=tools, tool_choice=\"any\")\n",
    "    messages.append(response.choices[0].message)\n",
    "    print(response.choices[0].message.content)\n",
    "    tool_call = response.choices[0].message.tool_calls[0]\n",
    "    function_name = tool_call.function.name\n",
    "    function_params = json.loads(tool_call.function.arguments)\n",
    "\n",
    "    function_result_raw = names_to_functions[function_name](**function_params)\n",
    "    print(\"sources: \", [f\"{source['title']} - {source['url']}\" for source in function_result_raw])\n",
    "    function_result_text = tools_to_str(function_result_raw)\n",
    "    messages.append(ChatMessage(role=\"tool\", name=function_name, content=function_result_text, tool_call_id=tool_call.id))\n",
    "\n",
    "    response = client.chat(model=model, messages=messages)\n",
    "    final_response = response.choices[0].message.content\n",
    "    print(final_response)\n"
   ]
  }
 ],
 "metadata": {
  "kernelspec": {
   "display_name": "venv",
   "language": "python",
   "name": "python3"
  },
  "language_info": {
   "codemirror_mode": {
    "name": "ipython",
    "version": 3
   },
   "file_extension": ".py",
   "mimetype": "text/x-python",
   "name": "python",
   "nbconvert_exporter": "python",
   "pygments_lexer": "ipython3",
   "version": "3.12.9"
  }
 },
 "nbformat": 4,
 "nbformat_minor": 2
}
