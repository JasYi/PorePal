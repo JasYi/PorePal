{
 "cells": [
  {
   "cell_type": "markdown",
   "metadata": {},
   "source": [
    "# PorePal Vision component"
   ]
  },
  {
   "cell_type": "code",
   "execution_count": 1,
   "metadata": {},
   "outputs": [
    {
     "name": "stdout",
     "output_type": "stream",
     "text": [
      "\n",
      "image 1/1 c:\\Users\\jason\\Jason_Stuff\\cswork\\PorePal\\vision\\dylan.jpg: 640x480 11 dark spots, 282.2ms\n",
      "Speed: 10.7ms preprocess, 282.2ms inference, 14.1ms postprocess per image at shape (1, 3, 640, 480)\n",
      "Annotated image saved as: annotated_dylan.jpg\n",
      "Detected objects: ['dark spot', 'dark spot', 'dark spot', 'dark spot', 'dark spot', 'dark spot', 'dark spot', 'dark spot', 'dark spot', 'dark spot', 'dark spot']\n"
     ]
    }
   ],
   "source": [
    "import cv2\n",
    "from ultralytics import YOLO\n",
    "\n",
    "# Load your model (adjust the path as needed)\n",
    "model = YOLO('best.pt')\n",
    "\n",
    "filename = \"dylan\"\n",
    "\n",
    "# Run inference on an image (adjust the image path as needed)\n",
    "results = model.predict(source=f'{filename}.jpg', show=False, conf=0.05)\n",
    "\n",
    "# A list to store the detected object names\n",
    "detected_objects = []\n",
    "\n",
    "# Iterate over the results, using an index for unique file names\n",
    "for idx, result in enumerate(results):\n",
    "    # Render the image with annotations (returns a NumPy array in BGR format)\n",
    "    annotated_img = result.plot()\n",
    "\n",
    "    # Save the annotated image with a unique filename\n",
    "    filename = f'annotated_{filename}.jpg'\n",
    "    cv2.imwrite(filename, annotated_img)\n",
    "    print(f\"Annotated image saved as: {filename}\")\n",
    "\n",
    "    # Iterate over the detected boxes in the current result\n",
    "    # Each box contains a prediction, including the class index.\n",
    "    for box in result.boxes:\n",
    "        # Extract the class index.\n",
    "        class_idx = int(box.cls)\n",
    "        # Get the class name using the result's names dictionary.\n",
    "        object_name = result.names[class_idx]\n",
    "        detected_objects.append(object_name)\n",
    "    \n",
    "print(\"Detected objects:\", detected_objects)\n"
   ]
  },
  {
   "cell_type": "code",
   "execution_count": null,
   "metadata": {},
   "outputs": [],
   "source": []
  }
 ],
 "metadata": {
  "kernelspec": {
   "display_name": "venv",
   "language": "python",
   "name": "python3"
  },
  "language_info": {
   "codemirror_mode": {
    "name": "ipython",
    "version": 3
   },
   "file_extension": ".py",
   "mimetype": "text/x-python",
   "name": "python",
   "nbconvert_exporter": "python",
   "pygments_lexer": "ipython3",
   "version": "3.12.8"
  }
 },
 "nbformat": 4,
 "nbformat_minor": 2
}
