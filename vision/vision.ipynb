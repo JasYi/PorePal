{
 "cells": [
  {
   "cell_type": "markdown",
   "metadata": {},
   "source": [
    "# PorePal Vision component"
   ]
  },
  {
   "cell_type": "code",
   "execution_count": 6,
   "metadata": {},
   "outputs": [
    {
     "name": "stdout",
     "output_type": "stream",
     "text": [
      "\n",
      "0: 640x480 6 dark spots, 1 whiteheads, 145.1ms\n",
      "Speed: 4.8ms preprocess, 145.1ms inference, 4.9ms postprocess per image at shape (1, 3, 640, 480)\n",
      "Annotated image saved as: annotated_skin.jpg\n",
      "Detected objects: ['dark spot', 'dark spot', 'dark spot', 'dark spot', 'dark spot', 'dark spot', 'whiteheads']\n"
     ]
    }
   ],
   "source": [
    "import cv2\n",
    "from ultralytics import YOLO\n",
    "import base64\n",
    "import numpy as np\n",
    "\n",
    "# Load your model (adjust the path as needed)\n",
    "model = YOLO('best.pt')\n",
    "\n",
    "filename = \"skin\"\n",
    "\n",
    "with open(f\"{filename}.jpg\", \"rb\") as image_file:\n",
    "    image_data = base64.b64encode(image_file.read())\n",
    "    \n",
    "    base64_string = image_data.decode('utf-8')\n",
    "\n",
    "base64_encoded_img = base64_string\n",
    "\n",
    "image_data = base64.b64decode(base64_encoded_img)\n",
    "\n",
    "np_arr = np.frombuffer(image_data, np.uint8)\n",
    "\n",
    "image = cv2.imdecode(np_arr, cv2.IMREAD_COLOR)\n",
    "\n",
    "# Run inference on an image (adjust the image path as needed)\n",
    "results = model(image, show=False, conf=0.05)\n",
    "\n",
    "# A list to store the detected object names\n",
    "detected_objects = []\n",
    "\n",
    "# Iterate over the results, using an index for unique file names\n",
    "for idx, result in enumerate(results):\n",
    "    # Render the image with annotations (returns a NumPy array in BGR format)\n",
    "    annotated_img = result.plot()\n",
    "\n",
    "    # Save the annotated image with a unique filename\n",
    "    filename = f'annotated_{filename}.jpg'\n",
    "    cv2.imwrite(filename, annotated_img)\n",
    "    print(f\"Annotated image saved as: {filename}\")\n",
    "\n",
    "    # Iterate over the detected boxes in the current result\n",
    "    # Each box contains a prediction, including the class index.\n",
    "    for box in result.boxes:\n",
    "        # Extract the class index.\n",
    "        class_idx = int(box.cls)\n",
    "        # Get the class name using the result's names dictionary.\n",
    "        object_name = result.names[class_idx]\n",
    "        detected_objects.append(object_name)\n",
    "    \n",
    "print(\"Detected objects:\", detected_objects)\n"
   ]
  },
  {
   "cell_type": "code",
   "execution_count": 4,
   "metadata": {},
   "outputs": [
    {
     "name": "stdout",
     "output_type": "stream",
     "text": [
      "[('dark spot', 6), ('whiteheads', 1)]\n"
     ]
    }
   ],
   "source": [
    "from collections import Counter\n",
    "\n",
    "def get_object_frequencies(detected_objects):\n",
    "    # Count the frequency of each object in the detected_objects array\n",
    "    object_counter = Counter(detected_objects)\n",
    "    # Convert the counter to a list of tuples (object_name, frequency)\n",
    "    object_frequencies = list(object_counter.items())\n",
    "    object_frequencies.sort(key=lambda x: x[1], reverse=True)\n",
    "    return object_frequencies\n",
    "\n",
    "# Example usage\n",
    "object_frequencies = get_object_frequencies(detected_objects)\n",
    "print(object_frequencies)"
   ]
  },
  {
   "cell_type": "code",
   "execution_count": null,
   "metadata": {},
   "outputs": [],
   "source": []
  }
 ],
 "metadata": {
  "kernelspec": {
   "display_name": "venv",
   "language": "python",
   "name": "python3"
  },
  "language_info": {
   "codemirror_mode": {
    "name": "ipython",
    "version": 3
   },
   "file_extension": ".py",
   "mimetype": "text/x-python",
   "name": "python",
   "nbconvert_exporter": "python",
   "pygments_lexer": "ipython3",
   "version": "3.12.9"
  }
 },
 "nbformat": 4,
 "nbformat_minor": 2
}
